{
  "cells": [
    {
      "cell_type": "markdown",
      "metadata": {
        "id": "fkg9-Nrla8Ew"
      },
      "source": [
        "# Importing data and libraries"
      ]
    },
    {
      "cell_type": "code",
      "execution_count": 8,
      "metadata": {
        "id": "sSFYcHQFviHH"
      },
      "outputs": [],
      "source": [
        "import pandas as pd\n",
        "import numpy as np\n",
        "import matplotlib.pyplot as plt"
      ]
    },
    {
      "cell_type": "code",
      "execution_count": 9,
      "metadata": {
        "id": "sJ1b5yimw2R7"
      },
      "outputs": [],
      "source": [
        "path = 'Subscription Cohort Analysis Data.csv'"
      ]
    },
    {
      "cell_type": "code",
      "execution_count": 10,
      "metadata": {
        "id": "xdrPoJMhv_S4"
      },
      "outputs": [],
      "source": [
        "subs_df = pd.read_csv(path)"
      ]
    },
    {
      "cell_type": "markdown",
      "metadata": {
        "id": "cfrNIVHDbIB8"
      },
      "source": [
        "# Data cleaning"
      ]
    },
    {
      "cell_type": "code",
      "execution_count": 11,
      "metadata": {
        "colab": {
          "base_uri": "https://localhost:8080/",
          "height": 206
        },
        "id": "4bOr2j3iwjeQ",
        "outputId": "c6a4c97b-8bf2-4f63-f62d-e486d4505b11"
      },
      "outputs": [
        {
          "data": {
            "text/html": [
              "<div>\n",
              "<style scoped>\n",
              "    .dataframe tbody tr th:only-of-type {\n",
              "        vertical-align: middle;\n",
              "    }\n",
              "\n",
              "    .dataframe tbody tr th {\n",
              "        vertical-align: top;\n",
              "    }\n",
              "\n",
              "    .dataframe thead th {\n",
              "        text-align: right;\n",
              "    }\n",
              "</style>\n",
              "<table border=\"1\" class=\"dataframe\">\n",
              "  <thead>\n",
              "    <tr style=\"text-align: right;\">\n",
              "      <th></th>\n",
              "      <th>customer_id</th>\n",
              "      <th>created_date</th>\n",
              "      <th>canceled_date</th>\n",
              "      <th>subscription_cost</th>\n",
              "      <th>subscription_interval</th>\n",
              "      <th>was_subscription_paid</th>\n",
              "    </tr>\n",
              "  </thead>\n",
              "  <tbody>\n",
              "    <tr>\n",
              "      <th>0</th>\n",
              "      <td>154536156</td>\n",
              "      <td>2022-09-01</td>\n",
              "      <td>NaN</td>\n",
              "      <td>39</td>\n",
              "      <td>month</td>\n",
              "      <td>Yes</td>\n",
              "    </tr>\n",
              "    <tr>\n",
              "      <th>1</th>\n",
              "      <td>149713408</td>\n",
              "      <td>2022-09-01</td>\n",
              "      <td>2022-09-02</td>\n",
              "      <td>39</td>\n",
              "      <td>month</td>\n",
              "      <td>No</td>\n",
              "    </tr>\n",
              "    <tr>\n",
              "      <th>2</th>\n",
              "      <td>153756284</td>\n",
              "      <td>2022-09-01</td>\n",
              "      <td>2022-09-02</td>\n",
              "      <td>39</td>\n",
              "      <td>month</td>\n",
              "      <td>No</td>\n",
              "    </tr>\n",
              "    <tr>\n",
              "      <th>3</th>\n",
              "      <td>121253113</td>\n",
              "      <td>2022-09-01</td>\n",
              "      <td>2022-09-23</td>\n",
              "      <td>39</td>\n",
              "      <td>month</td>\n",
              "      <td>Yes</td>\n",
              "    </tr>\n",
              "    <tr>\n",
              "      <th>4</th>\n",
              "      <td>154467210</td>\n",
              "      <td>2022-09-01</td>\n",
              "      <td>2023-06-29</td>\n",
              "      <td>39</td>\n",
              "      <td>month</td>\n",
              "      <td>Yes</td>\n",
              "    </tr>\n",
              "  </tbody>\n",
              "</table>\n",
              "</div>"
            ],
            "text/plain": [
              "   customer_id created_date canceled_date  subscription_cost  \\\n",
              "0    154536156   2022-09-01           NaN                 39   \n",
              "1    149713408   2022-09-01    2022-09-02                 39   \n",
              "2    153756284   2022-09-01    2022-09-02                 39   \n",
              "3    121253113   2022-09-01    2022-09-23                 39   \n",
              "4    154467210   2022-09-01    2023-06-29                 39   \n",
              "\n",
              "  subscription_interval was_subscription_paid  \n",
              "0                 month                   Yes  \n",
              "1                 month                    No  \n",
              "2                 month                    No  \n",
              "3                 month                   Yes  \n",
              "4                 month                   Yes  "
            ]
          },
          "execution_count": 11,
          "metadata": {},
          "output_type": "execute_result"
        }
      ],
      "source": [
        "subs_df.head(5)"
      ]
    },
    {
      "cell_type": "code",
      "execution_count": 12,
      "metadata": {
        "colab": {
          "base_uri": "https://localhost:8080/"
        },
        "id": "5hZh_NeAA3X2",
        "outputId": "9a6c78b2-bc71-46b8-92bc-a2bdbdf7436b"
      },
      "outputs": [
        {
          "name": "stdout",
          "output_type": "stream",
          "text": [
            "<class 'pandas.core.frame.DataFrame'>\n",
            "RangeIndex: 3069 entries, 0 to 3068\n",
            "Data columns (total 6 columns):\n",
            " #   Column                 Non-Null Count  Dtype \n",
            "---  ------                 --------------  ----- \n",
            " 0   customer_id            3069 non-null   int64 \n",
            " 1   created_date           3069 non-null   object\n",
            " 2   canceled_date          2004 non-null   object\n",
            " 3   subscription_cost      3069 non-null   int64 \n",
            " 4   subscription_interval  3069 non-null   object\n",
            " 5   was_subscription_paid  3069 non-null   object\n",
            "dtypes: int64(2), object(4)\n",
            "memory usage: 144.0+ KB\n"
          ]
        }
      ],
      "source": [
        "subs_df.info()"
      ]
    },
    {
      "cell_type": "markdown",
      "metadata": {
        "id": "k5zeUz2Vyo6V"
      },
      "source": [
        "Check if subscription_interval and subscription_cost has same value and drop and store it in a variable\n",
        "\n",
        "\n",
        "\n",
        "\n"
      ]
    },
    {
      "cell_type": "code",
      "execution_count": 13,
      "metadata": {
        "colab": {
          "base_uri": "https://localhost:8080/",
          "height": 178
        },
        "collapsed": true,
        "id": "x4e4Dw9Yyond",
        "outputId": "ecbe40ee-bf87-40d9-8e89-1cf56587e333"
      },
      "outputs": [
        {
          "name": "stdout",
          "output_type": "stream",
          "text": [
            "39\n",
            "month\n"
          ]
        },
        {
          "data": {
            "text/html": [
              "<div>\n",
              "<style scoped>\n",
              "    .dataframe tbody tr th:only-of-type {\n",
              "        vertical-align: middle;\n",
              "    }\n",
              "\n",
              "    .dataframe tbody tr th {\n",
              "        vertical-align: top;\n",
              "    }\n",
              "\n",
              "    .dataframe thead th {\n",
              "        text-align: right;\n",
              "    }\n",
              "</style>\n",
              "<table border=\"1\" class=\"dataframe\">\n",
              "  <thead>\n",
              "    <tr style=\"text-align: right;\">\n",
              "      <th></th>\n",
              "      <th>customer_id</th>\n",
              "      <th>created_date</th>\n",
              "      <th>canceled_date</th>\n",
              "      <th>was_subscription_paid</th>\n",
              "    </tr>\n",
              "  </thead>\n",
              "  <tbody>\n",
              "    <tr>\n",
              "      <th>0</th>\n",
              "      <td>154536156</td>\n",
              "      <td>2022-09-01</td>\n",
              "      <td>NaN</td>\n",
              "      <td>Yes</td>\n",
              "    </tr>\n",
              "    <tr>\n",
              "      <th>1</th>\n",
              "      <td>149713408</td>\n",
              "      <td>2022-09-01</td>\n",
              "      <td>2022-09-02</td>\n",
              "      <td>No</td>\n",
              "    </tr>\n",
              "    <tr>\n",
              "      <th>2</th>\n",
              "      <td>153756284</td>\n",
              "      <td>2022-09-01</td>\n",
              "      <td>2022-09-02</td>\n",
              "      <td>No</td>\n",
              "    </tr>\n",
              "  </tbody>\n",
              "</table>\n",
              "</div>"
            ],
            "text/plain": [
              "   customer_id created_date canceled_date was_subscription_paid\n",
              "0    154536156   2022-09-01           NaN                   Yes\n",
              "1    149713408   2022-09-01    2022-09-02                    No\n",
              "2    153756284   2022-09-01    2022-09-02                    No"
            ]
          },
          "execution_count": 13,
          "metadata": {},
          "output_type": "execute_result"
        }
      ],
      "source": [
        "if subs_df['subscription_cost'].nunique() == 1:\n",
        "    subscription_cost = subs_df['subscription_cost'].iloc[0]\n",
        "    subs_df = subs_df.drop(columns=['subscription_cost'])\n",
        "\n",
        "if subs_df['subscription_interval'].nunique() == 1:\n",
        "    subscription_interval = subs_df['subscription_interval'].iloc[0]\n",
        "    subs_df = subs_df.drop(columns=['subscription_interval'])\n",
        "\n",
        "print(subscription_cost)\n",
        "print(subscription_interval)\n",
        "\n",
        "subs_df.head(3)"
      ]
    },
    {
      "cell_type": "markdown",
      "metadata": {
        "id": "OzxeLUho4zFI"
      },
      "source": [
        "Recode **YES** and **NO** to **1** and **0** to save memory\n"
      ]
    },
    {
      "cell_type": "code",
      "execution_count": 14,
      "metadata": {
        "colab": {
          "base_uri": "https://localhost:8080/",
          "height": 198
        },
        "collapsed": true,
        "id": "C559wgYu3Thr",
        "outputId": "793bc443-2ffb-44b1-c868-b0d1d046bc3a"
      },
      "outputs": [
        {
          "data": {
            "text/html": [
              "<div>\n",
              "<style scoped>\n",
              "    .dataframe tbody tr th:only-of-type {\n",
              "        vertical-align: middle;\n",
              "    }\n",
              "\n",
              "    .dataframe tbody tr th {\n",
              "        vertical-align: top;\n",
              "    }\n",
              "\n",
              "    .dataframe thead th {\n",
              "        text-align: right;\n",
              "    }\n",
              "</style>\n",
              "<table border=\"1\" class=\"dataframe\">\n",
              "  <thead>\n",
              "    <tr style=\"text-align: right;\">\n",
              "      <th></th>\n",
              "      <th>customer_id</th>\n",
              "      <th>created_date</th>\n",
              "      <th>canceled_date</th>\n",
              "      <th>was_subscription_paid</th>\n",
              "    </tr>\n",
              "  </thead>\n",
              "  <tbody>\n",
              "    <tr>\n",
              "      <th>0</th>\n",
              "      <td>154536156</td>\n",
              "      <td>2022-09-01</td>\n",
              "      <td>NaN</td>\n",
              "      <td>1</td>\n",
              "    </tr>\n",
              "    <tr>\n",
              "      <th>1</th>\n",
              "      <td>149713408</td>\n",
              "      <td>2022-09-01</td>\n",
              "      <td>2022-09-02</td>\n",
              "      <td>0</td>\n",
              "    </tr>\n",
              "    <tr>\n",
              "      <th>2</th>\n",
              "      <td>153756284</td>\n",
              "      <td>2022-09-01</td>\n",
              "      <td>2022-09-02</td>\n",
              "      <td>0</td>\n",
              "    </tr>\n",
              "  </tbody>\n",
              "</table>\n",
              "</div>"
            ],
            "text/plain": [
              "   customer_id created_date canceled_date  was_subscription_paid\n",
              "0    154536156   2022-09-01           NaN                      1\n",
              "1    149713408   2022-09-01    2022-09-02                      0\n",
              "2    153756284   2022-09-01    2022-09-02                      0"
            ]
          },
          "execution_count": 14,
          "metadata": {},
          "output_type": "execute_result"
        }
      ],
      "source": [
        "subs_df['was_subscription_paid'] = subs_df['was_subscription_paid'].replace({'Yes': 1, 'No': 0})\n",
        "\n",
        "subs_df.head(3)"
      ]
    },
    {
      "cell_type": "code",
      "execution_count": 15,
      "metadata": {
        "colab": {
          "base_uri": "https://localhost:8080/",
          "height": 143
        },
        "collapsed": true,
        "id": "qnP97Ua__VFR",
        "outputId": "b3a78998-bd49-48e4-c562-45d37ef46fa7"
      },
      "outputs": [
        {
          "data": {
            "text/html": [
              "<div>\n",
              "<style scoped>\n",
              "    .dataframe tbody tr th:only-of-type {\n",
              "        vertical-align: middle;\n",
              "    }\n",
              "\n",
              "    .dataframe tbody tr th {\n",
              "        vertical-align: top;\n",
              "    }\n",
              "\n",
              "    .dataframe thead th {\n",
              "        text-align: right;\n",
              "    }\n",
              "</style>\n",
              "<table border=\"1\" class=\"dataframe\">\n",
              "  <thead>\n",
              "    <tr style=\"text-align: right;\">\n",
              "      <th></th>\n",
              "      <th>Category</th>\n",
              "      <th>Count</th>\n",
              "    </tr>\n",
              "  </thead>\n",
              "  <tbody>\n",
              "    <tr>\n",
              "      <th>0</th>\n",
              "      <td>subscription_was_paid</td>\n",
              "      <td>2936</td>\n",
              "    </tr>\n",
              "    <tr>\n",
              "      <th>1</th>\n",
              "      <td>subscription_was_not_paid</td>\n",
              "      <td>133</td>\n",
              "    </tr>\n",
              "    <tr>\n",
              "      <th>2</th>\n",
              "      <td>total_subscriptions</td>\n",
              "      <td>3069</td>\n",
              "    </tr>\n",
              "  </tbody>\n",
              "</table>\n",
              "</div>"
            ],
            "text/plain": [
              "                    Category  Count\n",
              "0      subscription_was_paid   2936\n",
              "1  subscription_was_not_paid    133\n",
              "2        total_subscriptions   3069"
            ]
          },
          "execution_count": 15,
          "metadata": {},
          "output_type": "execute_result"
        }
      ],
      "source": [
        "subscriptions = subs_df.groupby('was_subscription_paid').size()\n",
        "\n",
        "subscriptions_df = {\"subscription_was_paid\": subscriptions[1], \"subscription_was_not_paid\": subscriptions[0], \"total_subscriptions\": subscriptions[0]+subscriptions[1]}\n",
        "\n",
        "subscriptions_df = pd.DataFrame(list(subscriptions_df.items()), columns=['Category', 'Count'])\n",
        "subscriptions_df"
      ]
    },
    {
      "cell_type": "markdown",
      "metadata": {
        "id": "EXclsyl6xQnh"
      },
      "source": [
        "# 1. Churn Analysis:\n",
        "- Churn rate by Subscription type\n",
        "- Overall churn rate\n",
        "- Monthly churn"
      ]
    },
    {
      "cell_type": "code",
      "execution_count": 16,
      "metadata": {
        "colab": {
          "base_uri": "https://localhost:8080/",
          "height": 143
        },
        "collapsed": true,
        "id": "GOdLlf0THWee",
        "outputId": "d2b8530c-204c-4cb6-ddff-8d1ac35976d2"
      },
      "outputs": [
        {
          "data": {
            "text/html": [
              "<div>\n",
              "<style scoped>\n",
              "    .dataframe tbody tr th:only-of-type {\n",
              "        vertical-align: middle;\n",
              "    }\n",
              "\n",
              "    .dataframe tbody tr th {\n",
              "        vertical-align: top;\n",
              "    }\n",
              "\n",
              "    .dataframe thead th {\n",
              "        text-align: right;\n",
              "    }\n",
              "</style>\n",
              "<table border=\"1\" class=\"dataframe\">\n",
              "  <thead>\n",
              "    <tr style=\"text-align: right;\">\n",
              "      <th></th>\n",
              "      <th>Category</th>\n",
              "      <th>Count</th>\n",
              "    </tr>\n",
              "  </thead>\n",
              "  <tbody>\n",
              "    <tr>\n",
              "      <th>0</th>\n",
              "      <td>subscription_was_paid</td>\n",
              "      <td>1881</td>\n",
              "    </tr>\n",
              "    <tr>\n",
              "      <th>1</th>\n",
              "      <td>subscription_was_not_paid</td>\n",
              "      <td>123</td>\n",
              "    </tr>\n",
              "    <tr>\n",
              "      <th>2</th>\n",
              "      <td>total_subscriptions</td>\n",
              "      <td>2004</td>\n",
              "    </tr>\n",
              "  </tbody>\n",
              "</table>\n",
              "</div>"
            ],
            "text/plain": [
              "                    Category  Count\n",
              "0      subscription_was_paid   1881\n",
              "1  subscription_was_not_paid    123\n",
              "2        total_subscriptions   2004"
            ]
          },
          "execution_count": 16,
          "metadata": {},
          "output_type": "execute_result"
        }
      ],
      "source": [
        "cancellations = subs_df[\"canceled_date\"].groupby(subs_df[\"was_subscription_paid\"]).count()\n",
        "\n",
        "cancellations_df = {\"subscription_was_paid\": cancellations[1], \"subscription_was_not_paid\": cancellations[0], \"total_subscriptions\": cancellations[0]+cancellations[1]}\n",
        "\n",
        "cancellations_df = pd.DataFrame(list(cancellations_df.items()), columns=['Category', 'Count'])\n",
        "cancellations_df\n"
      ]
    },
    {
      "cell_type": "markdown",
      "metadata": {
        "id": "o5NeiZS2Jint"
      },
      "source": [
        "Total : 3069, was_subscription_paid : 2936, was_subscription_not_paid : 133\n",
        "\n",
        "\n",
        "Cancellations : 2004, was_subscription_paid : 1881, was_subscription_not_paid : 123"
      ]
    },
    {
      "cell_type": "code",
      "execution_count": 17,
      "metadata": {
        "colab": {
          "base_uri": "https://localhost:8080/"
        },
        "collapsed": true,
        "id": "l63av-PVP4o_",
        "outputId": "c3c94197-9576-41f9-c7c1-5fb998c4df96"
      },
      "outputs": [
        {
          "name": "stdout",
          "output_type": "stream",
          "text": [
            "Subscribers who canceled: 65.3%\n",
            "Subscribers who paid and canceled: 64.07%\n",
            "Subscribers who not paid and canceled: 92.48%\n"
          ]
        }
      ],
      "source": [
        "cancellations_who_paid = str(round(cancellations_df['Count'][0]/subscriptions_df['Count'][0]*100, 2)) + \"%\"\n",
        "cancellations_who_not_paid = str(round(cancellations_df['Count'][1]/subscriptions_df['Count'][1]*100, 2)) + \"%\"\n",
        "subs_cancellations = str(round(cancellations_df['Count'][2]/subscriptions_df['Count'][2]*100, 2)) + \"%\"\n",
        "\n",
        "print(f\"Subscribers who canceled: {subs_cancellations}\")\n",
        "print(f\"Subscribers who paid and canceled: {cancellations_who_paid}\")\n",
        "print(f\"Subscribers who not paid and canceled: {cancellations_who_not_paid}\")"
      ]
    },
    {
      "cell_type": "code",
      "execution_count": 18,
      "metadata": {
        "colab": {
          "base_uri": "https://localhost:8080/",
          "height": 607
        },
        "id": "mrSDMnrh-gKu",
        "outputId": "c4336650-4f43-40cd-c418-36ee11b9fb9c"
      },
      "outputs": [
        {
          "data": {
            "image/png": "[encoded data removed]",
            "text/plain": [
              "<Figure size 1000x600 with 1 Axes>"
            ]
          },
          "metadata": {},
          "output_type": "display_data"
        }
      ],
      "source": [
        "# Convert 'date columns' to datetime\n",
        "subs_df['created_date'] = pd.to_datetime(subs_df['created_date'], errors='coerce')\n",
        "subs_df['canceled_date'] = pd.to_datetime(subs_df['canceled_date'], errors='coerce')\n",
        "\n",
        "# Extract month and year, then group by this new column\n",
        "subs_df['created_month'] = subs_df['created_date'].dt.to_period('M')\n",
        "subs_df['canceled_month'] = subs_df['canceled_date'].dt.to_period('M')\n",
        "\n",
        "# Calculate the churn count for each month\n",
        "monthly_churn = subs_df.groupby('canceled_month')['canceled_date'].count()\n",
        "\n",
        "# Convert the result to a DataFrame\n",
        "monthly_churn_df = monthly_churn.reset_index(name='churn_count')\n",
        "\n",
        "# Plot the Graph\n",
        "plt.figure(figsize=(10, 6))\n",
        "bars = plt.bar(monthly_churn_df['canceled_month'].dt.strftime('%Y-%m'), monthly_churn_df['churn_count'], color='skyblue')\n",
        "plt.title('Churn count by Month')\n",
        "plt.xlabel('Date')\n",
        "plt.ylabel('Count')\n",
        "\n",
        "# Add horizontal line for the average value\n",
        "average_churn = int(monthly_churn_df['churn_count'].mean())\n",
        "plt.axhline(average_churn, color='red', linestyle='dashdot', label=f'Average churn: {average_churn:.2f}')\n",
        "plt.legend()\n",
        "\n",
        "# Add data labels on each bar\n",
        "for bar in bars:\n",
        "    yval = bar.get_height()\n",
        "    plt.text(bar.get_x() + bar.get_width()/2, yval, int(yval), ha='center', va='bottom')\n",
        "\n",
        "plt.xticks(rotation=60)\n",
        "plt.show()"
      ]
    },
    {
      "cell_type": "markdown",
      "metadata": {
        "id": "05ZUWxdlUhNM"
      },
      "source": [
        "# 2. Subscription Retention Analysis\n",
        "- Average Subscription duration\n",
        "- Categorize Subscription duration\n",
        "- Average Subscription Duration by Payment Status"
      ]
    },
    {
      "cell_type": "code",
      "execution_count": 19,
      "metadata": {
        "colab": {
          "base_uri": "https://localhost:8080/",
          "height": 143
        },
        "collapsed": true,
        "id": "Kw02KMQ1QO4R",
        "outputId": "7763d09d-bc09-414e-f23f-b8a1dc9a023d"
      },
      "outputs": [
        {
          "data": {
            "text/html": [
              "<div>\n",
              "<style scoped>\n",
              "    .dataframe tbody tr th:only-of-type {\n",
              "        vertical-align: middle;\n",
              "    }\n",
              "\n",
              "    .dataframe tbody tr th {\n",
              "        vertical-align: top;\n",
              "    }\n",
              "\n",
              "    .dataframe thead th {\n",
              "        text-align: right;\n",
              "    }\n",
              "</style>\n",
              "<table border=\"1\" class=\"dataframe\">\n",
              "  <thead>\n",
              "    <tr style=\"text-align: right;\">\n",
              "      <th></th>\n",
              "      <th>customer_id</th>\n",
              "      <th>created_date</th>\n",
              "      <th>canceled_date</th>\n",
              "      <th>was_subscription_paid</th>\n",
              "      <th>created_month</th>\n",
              "      <th>canceled_month</th>\n",
              "      <th>subscription_duration</th>\n",
              "    </tr>\n",
              "  </thead>\n",
              "  <tbody>\n",
              "    <tr>\n",
              "      <th>0</th>\n",
              "      <td>154536156</td>\n",
              "      <td>2022-09-01</td>\n",
              "      <td>NaT</td>\n",
              "      <td>1</td>\n",
              "      <td>2022-09</td>\n",
              "      <td>NaT</td>\n",
              "      <td>NaN</td>\n",
              "    </tr>\n",
              "    <tr>\n",
              "      <th>1</th>\n",
              "      <td>149713408</td>\n",
              "      <td>2022-09-01</td>\n",
              "      <td>2022-09-02</td>\n",
              "      <td>0</td>\n",
              "      <td>2022-09</td>\n",
              "      <td>2022-09</td>\n",
              "      <td>1.0</td>\n",
              "    </tr>\n",
              "    <tr>\n",
              "      <th>2</th>\n",
              "      <td>153756284</td>\n",
              "      <td>2022-09-01</td>\n",
              "      <td>2022-09-02</td>\n",
              "      <td>0</td>\n",
              "      <td>2022-09</td>\n",
              "      <td>2022-09</td>\n",
              "      <td>1.0</td>\n",
              "    </tr>\n",
              "  </tbody>\n",
              "</table>\n",
              "</div>"
            ],
            "text/plain": [
              "   customer_id created_date canceled_date  was_subscription_paid  \\\n",
              "0    154536156   2022-09-01           NaT                      1   \n",
              "1    149713408   2022-09-01    2022-09-02                      0   \n",
              "2    153756284   2022-09-01    2022-09-02                      0   \n",
              "\n",
              "  created_month canceled_month  subscription_duration  \n",
              "0       2022-09            NaT                    NaN  \n",
              "1       2022-09        2022-09                    1.0  \n",
              "2       2022-09        2022-09                    1.0  "
            ]
          },
          "execution_count": 19,
          "metadata": {},
          "output_type": "execute_result"
        }
      ],
      "source": [
        "# Calculate subscription duration\n",
        "subs_df['subscription_duration'] = (subs_df['canceled_date'] - subs_df['created_date']).dt.days\n",
        "\n",
        "# Display the DataFrame with the new column\n",
        "subs_df.head(3)"
      ]
    },
    {
      "cell_type": "code",
      "execution_count": 20,
      "metadata": {
        "colab": {
          "base_uri": "https://localhost:8080/",
          "height": 335
        },
        "id": "lLHb5s8KnGD8",
        "outputId": "53b8ef11-7736-4cb0-9bc1-b1011b200b14"
      },
      "outputs": [
        {
          "data": {
            "text/plain": [
              "count    2004.000000\n",
              "mean       58.374251\n",
              "std        56.906846\n",
              "min         0.000000\n",
              "25%        22.000000\n",
              "50%        38.000000\n",
              "75%        83.000000\n",
              "max       348.000000\n",
              "Name: subscription_duration, dtype: float64"
            ]
          },
          "execution_count": 20,
          "metadata": {},
          "output_type": "execute_result"
        }
      ],
      "source": [
        "subs_df['subscription_duration'].describe()"
      ]
    },
    {
      "cell_type": "code",
      "execution_count": 21,
      "metadata": {
        "colab": {
          "base_uri": "https://localhost:8080/",
          "height": 580
        },
        "id": "EC19c0uemrNH",
        "outputId": "6355cd25-66c3-45f5-8ed9-0fa7f5f6528c"
      },
      "outputs": [
        {
          "data": {
            "image/png": "[encoded data removed]",
            "text/plain": [
              "<Figure size 1000x600 with 1 Axes>"
            ]
          },
          "metadata": {},
          "output_type": "display_data"
        }
      ],
      "source": [
        "# Plot the Graph\n",
        "plt.figure(figsize=(10, 6))\n",
        "hist_values, bins, patches = plt.hist(subs_df['subscription_duration'], bins=15, color='skyblue')\n",
        "plt.title('Subscription duration')\n",
        "plt.xlabel('Days')\n",
        "plt.ylabel('Count')\n",
        "\n",
        "# Add horizontal line for the average value\n",
        "average_subscription_duration = int(subs_df['subscription_duration'].mean())\n",
        "plt.axvline(average_subscription_duration, color='red', linestyle='dashdot', label=f'Average subscription duration (days): {average_subscription_duration:.2f}')\n",
        "plt.legend()\n",
        "\n",
        "# Add data labels on each bar\n",
        "for i in range(len(hist_values)):\n",
        "    yval = hist_values[i]\n",
        "    xval = (bins[i] + bins[i+1])/2\n",
        "    plt.text(xval, yval, int(yval), ha='center', va='bottom')\n",
        "\n",
        "\n",
        "plt.xticks(rotation=60)\n",
        "plt.show()"
      ]
    },
    {
      "cell_type": "markdown",
      "metadata": {
        "id": "Xbfp56BgqyUg"
      },
      "source": [
        "Categorize subscription duration"
      ]
    },
    {
      "cell_type": "code",
      "execution_count": 22,
      "metadata": {
        "colab": {
          "base_uri": "https://localhost:8080/",
          "height": 143
        },
        "collapsed": true,
        "id": "_Tcv59G_jALw",
        "outputId": "2675b1eb-66db-4b00-92b9-e9aba3b82403"
      },
      "outputs": [
        {
          "data": {
            "text/html": [
              "<div>\n",
              "<style scoped>\n",
              "    .dataframe tbody tr th:only-of-type {\n",
              "        vertical-align: middle;\n",
              "    }\n",
              "\n",
              "    .dataframe tbody tr th {\n",
              "        vertical-align: top;\n",
              "    }\n",
              "\n",
              "    .dataframe thead th {\n",
              "        text-align: right;\n",
              "    }\n",
              "</style>\n",
              "<table border=\"1\" class=\"dataframe\">\n",
              "  <thead>\n",
              "    <tr style=\"text-align: right;\">\n",
              "      <th></th>\n",
              "      <th>customer_id</th>\n",
              "      <th>created_date</th>\n",
              "      <th>canceled_date</th>\n",
              "      <th>was_subscription_paid</th>\n",
              "      <th>created_month</th>\n",
              "      <th>canceled_month</th>\n",
              "      <th>subscription_duration</th>\n",
              "      <th>duration_group</th>\n",
              "    </tr>\n",
              "  </thead>\n",
              "  <tbody>\n",
              "    <tr>\n",
              "      <th>0</th>\n",
              "      <td>154536156</td>\n",
              "      <td>2022-09-01</td>\n",
              "      <td>NaT</td>\n",
              "      <td>1</td>\n",
              "      <td>2022-09</td>\n",
              "      <td>NaT</td>\n",
              "      <td>NaN</td>\n",
              "      <td>NaN</td>\n",
              "    </tr>\n",
              "    <tr>\n",
              "      <th>1</th>\n",
              "      <td>149713408</td>\n",
              "      <td>2022-09-01</td>\n",
              "      <td>2022-09-02</td>\n",
              "      <td>0</td>\n",
              "      <td>2022-09</td>\n",
              "      <td>2022-09</td>\n",
              "      <td>1.0</td>\n",
              "      <td>0-7 days</td>\n",
              "    </tr>\n",
              "    <tr>\n",
              "      <th>2</th>\n",
              "      <td>153756284</td>\n",
              "      <td>2022-09-01</td>\n",
              "      <td>2022-09-02</td>\n",
              "      <td>0</td>\n",
              "      <td>2022-09</td>\n",
              "      <td>2022-09</td>\n",
              "      <td>1.0</td>\n",
              "      <td>0-7 days</td>\n",
              "    </tr>\n",
              "  </tbody>\n",
              "</table>\n",
              "</div>"
            ],
            "text/plain": [
              "   customer_id created_date canceled_date  was_subscription_paid  \\\n",
              "0    154536156   2022-09-01           NaT                      1   \n",
              "1    149713408   2022-09-01    2022-09-02                      0   \n",
              "2    153756284   2022-09-01    2022-09-02                      0   \n",
              "\n",
              "  created_month canceled_month  subscription_duration duration_group  \n",
              "0       2022-09            NaT                    NaN            NaN  \n",
              "1       2022-09        2022-09                    1.0       0-7 days  \n",
              "2       2022-09        2022-09                    1.0       0-7 days  "
            ]
          },
          "execution_count": 22,
          "metadata": {},
          "output_type": "execute_result"
        }
      ],
      "source": [
        "# Define bins:\n",
        "bins = [0, 7, 30, 60, 90, 120, 150, 180, 365, 730]\n",
        "\n",
        "# Define labels for each bin\n",
        "labels = ['0-7 days', '8-30 days', '31-60 days', '61-90 days', '91-120 days',\n",
        "          '121-150 days', '151-180 days', '181-365 days', '1-2 years']\n",
        "\n",
        "# Create the bins and categorize subscription duration\n",
        "subs_df['duration_group'] = pd.cut(subs_df['subscription_duration'], bins=bins, labels=labels)\n",
        "subs_df.head(3)"
      ]
    },
    {
      "cell_type": "code",
      "execution_count": 23,
      "metadata": {
        "colab": {
          "base_uri": "https://localhost:8080/",
          "height": 607
        },
        "id": "nP6WErRxrWwe",
        "outputId": "41c94563-7496-4a9b-d23d-c747dfa743fb"
      },
      "outputs": [
        {
          "data": {
            "image/png": "[encoded data removed]",
            "text/plain": [
              "<Figure size 1000x600 with 1 Axes>"
            ]
          },
          "metadata": {},
          "output_type": "display_data"
        }
      ],
      "source": [
        "# Ensure 'duration_group' is binned according to these categories, and count the occurrences\n",
        "duration_counts = subs_df['duration_group'].value_counts().reindex(labels, fill_value=0)\n",
        "\n",
        "# Plot the Graph\n",
        "plt.figure(figsize=(10, 6))\n",
        "bars = plt.bar(labels, duration_counts.values, color='skyblue')\n",
        "plt.title('Subscription Duration by Category')\n",
        "plt.xlabel('Duration Group')\n",
        "plt.ylabel('Count')\n",
        "\n",
        "# Add data labels on each bar\n",
        "for bar in bars:\n",
        "    yval = bar.get_height()\n",
        "    plt.text(bar.get_x() + bar.get_width() / 2, yval, int(yval), ha='center', va='bottom')\n",
        "\n",
        "# Rotate the x-axis labels for better readability\n",
        "plt.xticks(rotation=60)\n",
        "\n",
        "plt.tight_layout()\n",
        "plt.show()\n"
      ]
    },
    {
      "cell_type": "markdown",
      "metadata": {
        "id": "91lHn7GKvcW2"
      },
      "source": [
        "Analyze patterns in retention based on whether the subscription was paid.\n"
      ]
    },
    {
      "cell_type": "code",
      "execution_count": 24,
      "metadata": {
        "colab": {
          "base_uri": "https://localhost:8080/",
          "height": 564
        },
        "id": "ZGO5YqSgt6hc",
        "outputId": "02b3c46e-2897-49ad-f0d1-fd3f11a3d3c7"
      },
      "outputs": [
        {
          "data": {
            "image/png": "[encoded data removed]",
            "text/plain": [
              "<Figure size 800x600 with 1 Axes>"
            ]
          },
          "metadata": {},
          "output_type": "display_data"
        }
      ],
      "source": [
        "# Group by \"was_subscription_paid\" and calculate the average subscription duration for each group\n",
        "retention_by_payment = subs_df.groupby('was_subscription_paid')['subscription_duration'].mean()\n",
        "\n",
        "# Plot the Graph\n",
        "plt.figure(figsize=(8, 6))\n",
        "bars = plt.bar(retention_by_payment.index, retention_by_payment.values, color=['salmon', 'skyblue'])\n",
        "plt.title('Average Subscription Duration by Payment Status')\n",
        "plt.xlabel('Was Subscription Paid')\n",
        "plt.ylabel('Average Subscription Duration (Days)')\n",
        "plt.xticks([0, 1], ['No', 'Yes'])\n",
        "\n",
        "# Add data labels on each bar\n",
        "for bar in bars:\n",
        "    yval = bar.get_height()\n",
        "    plt.text(bar.get_x() + bar.get_width() / 2, yval, int(yval), ha='center', va='bottom')\n",
        "\n",
        "plt.show()"
      ]
    },
    {
      "cell_type": "markdown",
      "metadata": {
        "id": "O27v2xsU031T"
      },
      "source": [
        "# 3. Revenue Analysis\n",
        "- Monthly accounts created\n",
        "- Monthly revenue"
      ]
    },
    {
      "cell_type": "code",
      "execution_count": 25,
      "metadata": {
        "colab": {
          "base_uri": "https://localhost:8080/",
          "height": 607
        },
        "id": "8tM5LN_cctAK",
        "outputId": "43f4a388-149a-4213-fbc1-013f59069ac9"
      },
      "outputs": [
        {
          "data": {
            "image/png": "[encoded data removed]",
            "text/plain": [
              "<Figure size 1000x600 with 1 Axes>"
            ]
          },
          "metadata": {},
          "output_type": "display_data"
        }
      ],
      "source": [
        "# Calculate the accounts created for each month\n",
        "monthly_acc = subs_df.groupby('created_month')['created_date'].count()\n",
        "\n",
        "# Convert the result to a DataFrame\n",
        "monthly_acc_df = monthly_acc.reset_index(name='accounts_created')\n",
        "\n",
        "# Plot the Graph\n",
        "plt.figure(figsize=(10, 6))\n",
        "bars = plt.bar(monthly_acc_df['created_month'].dt.strftime('%Y-%m'), monthly_acc_df['accounts_created'], color='skyblue')\n",
        "plt.title('Accounts created by Month')\n",
        "plt.xlabel('Date')\n",
        "plt.ylabel('Count')\n",
        "\n",
        "# Add horizontal line for the average value\n",
        "monthly_average_accounts_created = int(monthly_acc_df['accounts_created'].mean())\n",
        "plt.axhline(monthly_average_accounts_created, color='red', linestyle='dashdot', label=f'Average: {monthly_average_accounts_created:.2f}')\n",
        "plt.legend()\n",
        "\n",
        "# Add data labels on each bar\n",
        "for bar in bars:\n",
        "    yval = bar.get_height()\n",
        "    plt.text(bar.get_x() + bar.get_width()/2, yval, int(yval), ha='center', va='bottom')\n",
        "\n",
        "plt.xticks(rotation=60)\n",
        "plt.show()"
      ]
    },
    {
      "cell_type": "code",
      "execution_count": 26,
      "metadata": {
        "colab": {
          "base_uri": "https://localhost:8080/",
          "height": 607
        },
        "id": "42v1VCU2sBFQ",
        "outputId": "ac1d8c20-1953-4a26-c444-7920546a35d7"
      },
      "outputs": [
        {
          "data": {
            "image/png": "[encoded data removed]",
            "text/plain": [
              "<Figure size 1000x600 with 1 Axes>"
            ]
          },
          "metadata": {},
          "output_type": "display_data"
        }
      ],
      "source": [
        "# Calculate the accounts created for each month\n",
        "monthly_revenue = subs_df.groupby('created_month')['created_date'].count()\n",
        "\n",
        "# Convert the result to a DataFrame\n",
        "monthly_revenue_df = monthly_acc.reset_index(name='monthly_revenue')\n",
        "\n",
        "# Plot the Graph\n",
        "plt.figure(figsize=(10, 6))\n",
        "bars = plt.bar(monthly_revenue_df['created_month'].dt.strftime('%Y-%m'), monthly_revenue_df['monthly_revenue']*subscription_cost, color='skyblue')\n",
        "plt.title('Monthly revenue')\n",
        "plt.xlabel('Date')\n",
        "plt.ylabel('Revenue ($)')\n",
        "\n",
        "# Add horizontal line for the average value\n",
        "average_revenue = int(monthly_acc_df['accounts_created'].mean())\n",
        "plt.axhline(average_revenue*subscription_cost, color='red', linestyle='dashdot', label=f'Average: {average_revenue*subscription_cost:.2f}')\n",
        "plt.legend()\n",
        "\n",
        "# Add data labels on each bar\n",
        "for bar in bars:\n",
        "    yval = bar.get_height()\n",
        "    plt.text(bar.get_x() + bar.get_width()/2, yval, int(yval), ha='center', va='bottom')\n",
        "\n",
        "plt.xticks(rotation=60)\n",
        "plt.show()"
      ]
    },
    {
      "cell_type": "markdown",
      "metadata": {
        "id": "LtzuApSNxv2Y"
      },
      "source": [
        "# 4. Customer Segmentation\n",
        "- Classify customers into categories\n",
        "    1. Active\n",
        "    2. Short-term (1 to 3 months)\n",
        "    3. Churner (within a month)\n",
        "    4. Mid-term (3 months to 6 months)\n",
        "    5. Resubscriber\n",
        "    6. Free trial\n",
        "    7. Long-term (6 months to 1 year)\n",
        "    8. Irregular Subscriber\n",
        "\n",
        "- Get Count and Countribution\n",
        "- Get Active Subscribers"
      ]
    },
    {
      "cell_type": "code",
      "execution_count": 27,
      "metadata": {
        "colab": {
          "base_uri": "https://localhost:8080/",
          "height": 206
        },
        "id": "8s7jDe0CjJJI",
        "outputId": "3d3e9538-e01c-434f-ebbc-da483eb92ddb"
      },
      "outputs": [
        {
          "data": {
            "text/html": [
              "<div>\n",
              "<style scoped>\n",
              "    .dataframe tbody tr th:only-of-type {\n",
              "        vertical-align: middle;\n",
              "    }\n",
              "\n",
              "    .dataframe tbody tr th {\n",
              "        vertical-align: top;\n",
              "    }\n",
              "\n",
              "    .dataframe thead th {\n",
              "        text-align: right;\n",
              "    }\n",
              "</style>\n",
              "<table border=\"1\" class=\"dataframe\">\n",
              "  <thead>\n",
              "    <tr style=\"text-align: right;\">\n",
              "      <th></th>\n",
              "      <th>customer_id</th>\n",
              "      <th>created_date</th>\n",
              "      <th>canceled_date</th>\n",
              "      <th>was_subscription_paid</th>\n",
              "      <th>created_month</th>\n",
              "      <th>canceled_month</th>\n",
              "      <th>subscription_duration</th>\n",
              "      <th>duration_group</th>\n",
              "      <th>customer_category</th>\n",
              "    </tr>\n",
              "  </thead>\n",
              "  <tbody>\n",
              "    <tr>\n",
              "      <th>0</th>\n",
              "      <td>154536156</td>\n",
              "      <td>2022-09-01</td>\n",
              "      <td>NaT</td>\n",
              "      <td>1</td>\n",
              "      <td>2022-09</td>\n",
              "      <td>NaT</td>\n",
              "      <td>NaN</td>\n",
              "      <td>NaN</td>\n",
              "      <td>Active</td>\n",
              "    </tr>\n",
              "    <tr>\n",
              "      <th>1</th>\n",
              "      <td>149713408</td>\n",
              "      <td>2022-09-01</td>\n",
              "      <td>2022-09-02</td>\n",
              "      <td>0</td>\n",
              "      <td>2022-09</td>\n",
              "      <td>2022-09</td>\n",
              "      <td>1.0</td>\n",
              "      <td>0-7 days</td>\n",
              "      <td>Free trial</td>\n",
              "    </tr>\n",
              "    <tr>\n",
              "      <th>2</th>\n",
              "      <td>153756284</td>\n",
              "      <td>2022-09-01</td>\n",
              "      <td>2022-09-02</td>\n",
              "      <td>0</td>\n",
              "      <td>2022-09</td>\n",
              "      <td>2022-09</td>\n",
              "      <td>1.0</td>\n",
              "      <td>0-7 days</td>\n",
              "      <td>Free trial</td>\n",
              "    </tr>\n",
              "    <tr>\n",
              "      <th>3</th>\n",
              "      <td>121253113</td>\n",
              "      <td>2022-09-01</td>\n",
              "      <td>2022-09-23</td>\n",
              "      <td>1</td>\n",
              "      <td>2022-09</td>\n",
              "      <td>2022-09</td>\n",
              "      <td>22.0</td>\n",
              "      <td>8-30 days</td>\n",
              "      <td>Resubscriber</td>\n",
              "    </tr>\n",
              "    <tr>\n",
              "      <th>4</th>\n",
              "      <td>154467210</td>\n",
              "      <td>2022-09-01</td>\n",
              "      <td>2023-06-29</td>\n",
              "      <td>1</td>\n",
              "      <td>2022-09</td>\n",
              "      <td>2023-06</td>\n",
              "      <td>301.0</td>\n",
              "      <td>181-365 days</td>\n",
              "      <td>Long-term (6 months to 1 year)</td>\n",
              "    </tr>\n",
              "  </tbody>\n",
              "</table>\n",
              "</div>"
            ],
            "text/plain": [
              "   customer_id created_date canceled_date  was_subscription_paid  \\\n",
              "0    154536156   2022-09-01           NaT                      1   \n",
              "1    149713408   2022-09-01    2022-09-02                      0   \n",
              "2    153756284   2022-09-01    2022-09-02                      0   \n",
              "3    121253113   2022-09-01    2022-09-23                      1   \n",
              "4    154467210   2022-09-01    2023-06-29                      1   \n",
              "\n",
              "  created_month canceled_month  subscription_duration duration_group  \\\n",
              "0       2022-09            NaT                    NaN            NaN   \n",
              "1       2022-09        2022-09                    1.0       0-7 days   \n",
              "2       2022-09        2022-09                    1.0       0-7 days   \n",
              "3       2022-09        2022-09                   22.0      8-30 days   \n",
              "4       2022-09        2023-06                  301.0   181-365 days   \n",
              "\n",
              "                customer_category  \n",
              "0                          Active  \n",
              "1                      Free trial  \n",
              "2                      Free trial  \n",
              "3                    Resubscriber  \n",
              "4  Long-term (6 months to 1 year)  "
            ]
          },
          "execution_count": 27,
          "metadata": {},
          "output_type": "execute_result"
        }
      ],
      "source": [
        "# Create a new 'category' column in subs_df and initialize with empty strings\n",
        "subs_df['customer_category'] = ''\n",
        "\n",
        "# Count the number of subscriptions for each customer\n",
        "customer_count = subs_df['customer_id'].value_counts()\n",
        "\n",
        "# Classify customers based on subscription duration and payment status, and assign directly to subs_df\n",
        "for customer_id in subs_df['customer_id'].unique():\n",
        "    customer_data = subs_df[subs_df['customer_id'] == customer_id]\n",
        "    duration = customer_data['subscription_duration'].max()\n",
        "    paid = customer_data['was_subscription_paid'].any()\n",
        "    count = customer_count[customer_id]\n",
        "\n",
        "    if count == 2:\n",
        "        category = 'Resubscriber'\n",
        "    elif count == 3:\n",
        "        category = 'Irregular Subscriber'\n",
        "    elif not paid:\n",
        "        category = 'Free trial'\n",
        "    elif pd.isnull(duration) and paid:\n",
        "        category = 'Active'\n",
        "    elif duration <= 30:\n",
        "        category = 'Churner (within a month)'\n",
        "    elif 30 < duration <= 90:\n",
        "        category = 'Short-term (1 to 3 months)'\n",
        "    elif 90 < duration <= 180:\n",
        "        category = 'Mid-term (3 months to 6 months)'\n",
        "    elif 180 < duration <= 365:\n",
        "        category = 'Long-term (6 months to 1 year)'\n",
        "    elif duration > 365:\n",
        "        category = 'Loyal (> a year)'\n",
        "    else:\n",
        "        category = 'Unknown'\n",
        "\n",
        "    # Assign the category to all rows for the current customer_id\n",
        "    subs_df.loc[subs_df['customer_id'] == customer_id, 'customer_category'] = category\n",
        "\n",
        "# Display the updated subs_df with the category column\n",
        "subs_df.head()\n"
      ]
    },
    {
      "cell_type": "code",
      "execution_count": 28,
      "metadata": {
        "colab": {
          "base_uri": "https://localhost:8080/",
          "height": 724
        },
        "id": "55trnDzOaoW1",
        "outputId": "16004b56-c895-4f82-bc1c-9117c633f286"
      },
      "outputs": [
        {
          "data": {
            "image/png": "[encoded data removed]",
            "text/plain": [
              "<Figure size 1000x600 with 1 Axes>"
            ]
          },
          "metadata": {},
          "output_type": "display_data"
        }
      ],
      "source": [
        "# Count the occurrences of each category in the 'customer_category' column\n",
        "category_counts = subs_df['customer_category'].value_counts()\n",
        "\n",
        "# Plot the graph\n",
        "plt.figure(figsize=(10, 6))\n",
        "bars = plt.bar(category_counts.index, category_counts.values)\n",
        "plt.title('Customer Categories')\n",
        "plt.xlabel('Category')\n",
        "plt.ylabel('Count')\n",
        "\n",
        "# Add data labels on each bar\n",
        "for bar in bars:\n",
        "    yval = bar.get_height()\n",
        "    plt.text(bar.get_x() + bar.get_width()/2, yval, int(yval), ha='center', va='bottom')\n",
        "\n",
        "plt.xticks(rotation=45, ha='right')\n",
        "plt.show()"
      ]
    },
    {
      "cell_type": "code",
      "execution_count": 29,
      "metadata": {
        "colab": {
          "base_uri": "https://localhost:8080/",
          "height": 677
        },
        "id": "7wziyRFSL3KS",
        "outputId": "0dd761a7-e6f9-43b0-961f-91333acf161d"
      },
      "outputs": [
        {
          "data": {
            "image/png": "[encoded data removed]",
            "text/plain": [
              "<Figure size 800x800 with 1 Axes>"
            ]
          },
          "metadata": {},
          "output_type": "display_data"
        }
      ],
      "source": [
        "# Plot a donut chart\n",
        "plt.figure(figsize=(8, 8))\n",
        "\n",
        "# Create a pie chart\n",
        "wedges, texts, autotexts = plt.pie(\n",
        "    category_counts.values,\n",
        "    labels=category_counts.index,\n",
        "    autopct='%1.1f%%',\n",
        "    startangle=90,\n",
        "    counterclock=False,\n",
        "    wedgeprops=dict(width=0.75)  # This creates the hole for the donut effect\n",
        ")\n",
        "\n",
        "# To avoid overlapping of last label\n",
        "for i, text in enumerate(texts):\n",
        "    if i >= len(texts)-1:\n",
        "        text.set_horizontalalignment('left')\n",
        "\n",
        "# Draw a circle at the center to make it look like a donut\n",
        "centre_circle = plt.Circle((0, 0), 0.75, fc='white')\n",
        "fig = plt.gcf()\n",
        "fig.gca().add_artist(centre_circle)\n",
        "\n",
        "# Set title and equal axis to make it circular\n",
        "plt.title('Customer Category Distribution', fontsize=16)\n",
        "plt.gca().set_aspect('equal')\n",
        "\n",
        "# Add a legend outside the donut chart\n",
        "plt.legend(wedges, category_counts.index, title='Categories', loc='center left', bbox_to_anchor=(1, 0, 0.5, 1))\n",
        "\n",
        "plt.show()"
      ]
    },
    {
      "cell_type": "markdown",
      "metadata": {
        "id": "J33CQi9Qejy5"
      },
      "source": [
        "## Get Active Subscribers"
      ]
    },
    {
      "cell_type": "code",
      "execution_count": 30,
      "metadata": {
        "colab": {
          "base_uri": "https://localhost:8080/",
          "height": 143
        },
        "id": "5vwyAv4Lkue4",
        "outputId": "eaa06121-0f89-4843-ee64-6c103c802916"
      },
      "outputs": [
        {
          "data": {
            "text/html": [
              "<div>\n",
              "<style scoped>\n",
              "    .dataframe tbody tr th:only-of-type {\n",
              "        vertical-align: middle;\n",
              "    }\n",
              "\n",
              "    .dataframe tbody tr th {\n",
              "        vertical-align: top;\n",
              "    }\n",
              "\n",
              "    .dataframe thead th {\n",
              "        text-align: right;\n",
              "    }\n",
              "</style>\n",
              "<table border=\"1\" class=\"dataframe\">\n",
              "  <thead>\n",
              "    <tr style=\"text-align: right;\">\n",
              "      <th></th>\n",
              "      <th>customer_id</th>\n",
              "      <th>created_date</th>\n",
              "      <th>canceled_date</th>\n",
              "      <th>was_subscription_paid</th>\n",
              "      <th>created_month</th>\n",
              "      <th>canceled_month</th>\n",
              "      <th>subscription_duration</th>\n",
              "      <th>duration_group</th>\n",
              "      <th>customer_category</th>\n",
              "    </tr>\n",
              "  </thead>\n",
              "  <tbody>\n",
              "    <tr>\n",
              "      <th>0</th>\n",
              "      <td>154536156</td>\n",
              "      <td>2022-09-01</td>\n",
              "      <td>NaT</td>\n",
              "      <td>1</td>\n",
              "      <td>2022-09</td>\n",
              "      <td>NaT</td>\n",
              "      <td>NaN</td>\n",
              "      <td>NaN</td>\n",
              "      <td>Active</td>\n",
              "    </tr>\n",
              "    <tr>\n",
              "      <th>12</th>\n",
              "      <td>152925600</td>\n",
              "      <td>2022-09-02</td>\n",
              "      <td>NaT</td>\n",
              "      <td>1</td>\n",
              "      <td>2022-09</td>\n",
              "      <td>NaT</td>\n",
              "      <td>NaN</td>\n",
              "      <td>NaN</td>\n",
              "      <td>Active</td>\n",
              "    </tr>\n",
              "    <tr>\n",
              "      <th>18</th>\n",
              "      <td>154131290</td>\n",
              "      <td>2022-09-03</td>\n",
              "      <td>NaT</td>\n",
              "      <td>1</td>\n",
              "      <td>2022-09</td>\n",
              "      <td>NaT</td>\n",
              "      <td>NaN</td>\n",
              "      <td>NaN</td>\n",
              "      <td>Active</td>\n",
              "    </tr>\n",
              "  </tbody>\n",
              "</table>\n",
              "</div>"
            ],
            "text/plain": [
              "    customer_id created_date canceled_date  was_subscription_paid  \\\n",
              "0     154536156   2022-09-01           NaT                      1   \n",
              "12    152925600   2022-09-02           NaT                      1   \n",
              "18    154131290   2022-09-03           NaT                      1   \n",
              "\n",
              "   created_month canceled_month  subscription_duration duration_group  \\\n",
              "0        2022-09            NaT                    NaN            NaN   \n",
              "12       2022-09            NaT                    NaN            NaN   \n",
              "18       2022-09            NaT                    NaN            NaN   \n",
              "\n",
              "   customer_category  \n",
              "0             Active  \n",
              "12            Active  \n",
              "18            Active  "
            ]
          },
          "execution_count": 30,
          "metadata": {},
          "output_type": "execute_result"
        }
      ],
      "source": [
        "active_subcribers = subs_df[subs_df['customer_category'] == 'Active']\n",
        "active_subcribers.head(3)"
      ]
    },
    {
      "cell_type": "markdown",
      "metadata": {
        "id": "DPJsXdHSl54O"
      },
      "source": [
        "# 5. Subscription Cost Impact\n",
        ">No impact by different pricing because we have only one price for all customers"
      ]
    },
    {
      "cell_type": "markdown",
      "metadata": {
        "id": "hlGW3mp9yhLR"
      },
      "source": [
        "# 6. Subscription Lifespan Prediction\n",
        "- Predict whether a customer will cancel based on their initial subscription behavior.\n"
      ]
    },
    {
      "cell_type": "markdown",
      "metadata": {
        "id": "r432ShzHqysR"
      },
      "source": [
        "## a. Data Preparation"
      ]
    },
    {
      "cell_type": "code",
      "execution_count": 31,
      "metadata": {
        "colab": {
          "base_uri": "https://localhost:8080/",
          "height": 143
        },
        "id": "NxuuOW5TqxEU",
        "outputId": "bd074e3d-7c14-4ed4-901d-b3f194ea2ae1"
      },
      "outputs": [
        {
          "data": {
            "text/html": [
              "<div>\n",
              "<style scoped>\n",
              "    .dataframe tbody tr th:only-of-type {\n",
              "        vertical-align: middle;\n",
              "    }\n",
              "\n",
              "    .dataframe tbody tr th {\n",
              "        vertical-align: top;\n",
              "    }\n",
              "\n",
              "    .dataframe thead th {\n",
              "        text-align: right;\n",
              "    }\n",
              "</style>\n",
              "<table border=\"1\" class=\"dataframe\">\n",
              "  <thead>\n",
              "    <tr style=\"text-align: right;\">\n",
              "      <th></th>\n",
              "      <th>customer_id</th>\n",
              "      <th>created_date</th>\n",
              "      <th>canceled_date</th>\n",
              "      <th>was_subscription_paid</th>\n",
              "      <th>created_month</th>\n",
              "      <th>canceled_month</th>\n",
              "      <th>subscription_duration</th>\n",
              "      <th>duration_group</th>\n",
              "      <th>customer_category</th>\n",
              "    </tr>\n",
              "  </thead>\n",
              "  <tbody>\n",
              "    <tr>\n",
              "      <th>0</th>\n",
              "      <td>154536156</td>\n",
              "      <td>2022-09-01</td>\n",
              "      <td>NaT</td>\n",
              "      <td>1</td>\n",
              "      <td>2022-09</td>\n",
              "      <td>NaT</td>\n",
              "      <td>NaN</td>\n",
              "      <td>NaN</td>\n",
              "      <td>Active</td>\n",
              "    </tr>\n",
              "    <tr>\n",
              "      <th>1</th>\n",
              "      <td>149713408</td>\n",
              "      <td>2022-09-01</td>\n",
              "      <td>2022-09-02</td>\n",
              "      <td>0</td>\n",
              "      <td>2022-09</td>\n",
              "      <td>2022-09</td>\n",
              "      <td>1.0</td>\n",
              "      <td>0-7 days</td>\n",
              "      <td>Free trial</td>\n",
              "    </tr>\n",
              "    <tr>\n",
              "      <th>2</th>\n",
              "      <td>153756284</td>\n",
              "      <td>2022-09-01</td>\n",
              "      <td>2022-09-02</td>\n",
              "      <td>0</td>\n",
              "      <td>2022-09</td>\n",
              "      <td>2022-09</td>\n",
              "      <td>1.0</td>\n",
              "      <td>0-7 days</td>\n",
              "      <td>Free trial</td>\n",
              "    </tr>\n",
              "  </tbody>\n",
              "</table>\n",
              "</div>"
            ],
            "text/plain": [
              "   customer_id created_date canceled_date  was_subscription_paid  \\\n",
              "0    154536156   2022-09-01           NaT                      1   \n",
              "1    149713408   2022-09-01    2022-09-02                      0   \n",
              "2    153756284   2022-09-01    2022-09-02                      0   \n",
              "\n",
              "  created_month canceled_month  subscription_duration duration_group  \\\n",
              "0       2022-09            NaT                    NaN            NaN   \n",
              "1       2022-09        2022-09                    1.0       0-7 days   \n",
              "2       2022-09        2022-09                    1.0       0-7 days   \n",
              "\n",
              "  customer_category  \n",
              "0            Active  \n",
              "1        Free trial  \n",
              "2        Free trial  "
            ]
          },
          "execution_count": 31,
          "metadata": {},
          "output_type": "execute_result"
        }
      ],
      "source": [
        "model_df = subs_df.copy(deep=True)\n",
        "model_df.head(3)"
      ]
    },
    {
      "cell_type": "code",
      "execution_count": 32,
      "metadata": {
        "colab": {
          "base_uri": "https://localhost:8080/",
          "height": 143
        },
        "collapsed": true,
        "id": "znvoxCGkmo_a",
        "outputId": "503a19cd-1829-4f86-971d-debd91566d1a"
      },
      "outputs": [
        {
          "data": {
            "text/html": [
              "<div>\n",
              "<style scoped>\n",
              "    .dataframe tbody tr th:only-of-type {\n",
              "        vertical-align: middle;\n",
              "    }\n",
              "\n",
              "    .dataframe tbody tr th {\n",
              "        vertical-align: top;\n",
              "    }\n",
              "\n",
              "    .dataframe thead th {\n",
              "        text-align: right;\n",
              "    }\n",
              "</style>\n",
              "<table border=\"1\" class=\"dataframe\">\n",
              "  <thead>\n",
              "    <tr style=\"text-align: right;\">\n",
              "      <th></th>\n",
              "      <th>customer_id</th>\n",
              "      <th>created_date</th>\n",
              "      <th>canceled_date</th>\n",
              "      <th>was_subscription_paid</th>\n",
              "      <th>created_month</th>\n",
              "      <th>canceled_month</th>\n",
              "      <th>subscription_duration</th>\n",
              "      <th>duration_group</th>\n",
              "      <th>customer_category</th>\n",
              "    </tr>\n",
              "  </thead>\n",
              "  <tbody>\n",
              "    <tr>\n",
              "      <th>0</th>\n",
              "      <td>154536156</td>\n",
              "      <td>2022-09-01</td>\n",
              "      <td>2024-12-31</td>\n",
              "      <td>1</td>\n",
              "      <td>2022-09</td>\n",
              "      <td>NaT</td>\n",
              "      <td>852</td>\n",
              "      <td>NaN</td>\n",
              "      <td>Active</td>\n",
              "    </tr>\n",
              "    <tr>\n",
              "      <th>1</th>\n",
              "      <td>149713408</td>\n",
              "      <td>2022-09-01</td>\n",
              "      <td>2022-09-02</td>\n",
              "      <td>0</td>\n",
              "      <td>2022-09</td>\n",
              "      <td>2022-09</td>\n",
              "      <td>1</td>\n",
              "      <td>0-7 days</td>\n",
              "      <td>Free trial</td>\n",
              "    </tr>\n",
              "    <tr>\n",
              "      <th>2</th>\n",
              "      <td>153756284</td>\n",
              "      <td>2022-09-01</td>\n",
              "      <td>2022-09-02</td>\n",
              "      <td>0</td>\n",
              "      <td>2022-09</td>\n",
              "      <td>2022-09</td>\n",
              "      <td>1</td>\n",
              "      <td>0-7 days</td>\n",
              "      <td>Free trial</td>\n",
              "    </tr>\n",
              "  </tbody>\n",
              "</table>\n",
              "</div>"
            ],
            "text/plain": [
              "   customer_id created_date canceled_date  was_subscription_paid  \\\n",
              "0    154536156   2022-09-01    2024-12-31                      1   \n",
              "1    149713408   2022-09-01    2022-09-02                      0   \n",
              "2    153756284   2022-09-01    2022-09-02                      0   \n",
              "\n",
              "  created_month canceled_month  subscription_duration duration_group  \\\n",
              "0       2022-09            NaT                    852            NaN   \n",
              "1       2022-09        2022-09                      1       0-7 days   \n",
              "2       2022-09        2022-09                      1       0-7 days   \n",
              "\n",
              "  customer_category  \n",
              "0            Active  \n",
              "1        Free trial  \n",
              "2        Free trial  "
            ]
          },
          "execution_count": 32,
          "metadata": {},
          "output_type": "execute_result"
        }
      ],
      "source": [
        "# Replace NA values with '2024-12-31' in 'canceled_date' column\n",
        "model_df['canceled_date'] = model_df['canceled_date'].fillna(pd.to_datetime('2024-12-31'))\n",
        "\n",
        "# Recalculate subscription duration\n",
        "model_df['subscription_duration'] = (model_df['canceled_date'] - model_df['created_date']).dt.days\n",
        "\n",
        "model_df.head(3)"
      ]
    },
    {
      "cell_type": "code",
      "execution_count": 33,
      "metadata": {
        "colab": {
          "base_uri": "https://localhost:8080/",
          "height": 143
        },
        "id": "v2Qqpyifdnpx",
        "outputId": "1a93c27b-d23d-4330-e112-adc1d616b03a"
      },
      "outputs": [
        {
          "data": {
            "text/html": [
              "<div>\n",
              "<style scoped>\n",
              "    .dataframe tbody tr th:only-of-type {\n",
              "        vertical-align: middle;\n",
              "    }\n",
              "\n",
              "    .dataframe tbody tr th {\n",
              "        vertical-align: top;\n",
              "    }\n",
              "\n",
              "    .dataframe thead th {\n",
              "        text-align: right;\n",
              "    }\n",
              "</style>\n",
              "<table border=\"1\" class=\"dataframe\">\n",
              "  <thead>\n",
              "    <tr style=\"text-align: right;\">\n",
              "      <th></th>\n",
              "      <th>customer_id</th>\n",
              "      <th>created_date</th>\n",
              "      <th>canceled_date</th>\n",
              "      <th>was_subscription_paid</th>\n",
              "      <th>created_month</th>\n",
              "      <th>canceled_month</th>\n",
              "      <th>subscription_duration</th>\n",
              "      <th>duration_group</th>\n",
              "      <th>customer_category</th>\n",
              "      <th>canceled</th>\n",
              "    </tr>\n",
              "  </thead>\n",
              "  <tbody>\n",
              "    <tr>\n",
              "      <th>0</th>\n",
              "      <td>154536156</td>\n",
              "      <td>2022-09-01</td>\n",
              "      <td>2024-12-31</td>\n",
              "      <td>1</td>\n",
              "      <td>2022-09</td>\n",
              "      <td>NaT</td>\n",
              "      <td>852</td>\n",
              "      <td>NaN</td>\n",
              "      <td>Active</td>\n",
              "      <td>0</td>\n",
              "    </tr>\n",
              "    <tr>\n",
              "      <th>1</th>\n",
              "      <td>149713408</td>\n",
              "      <td>2022-09-01</td>\n",
              "      <td>2022-09-02</td>\n",
              "      <td>0</td>\n",
              "      <td>2022-09</td>\n",
              "      <td>2022-09</td>\n",
              "      <td>1</td>\n",
              "      <td>0-7 days</td>\n",
              "      <td>Free trial</td>\n",
              "      <td>1</td>\n",
              "    </tr>\n",
              "    <tr>\n",
              "      <th>2</th>\n",
              "      <td>153756284</td>\n",
              "      <td>2022-09-01</td>\n",
              "      <td>2022-09-02</td>\n",
              "      <td>0</td>\n",
              "      <td>2022-09</td>\n",
              "      <td>2022-09</td>\n",
              "      <td>1</td>\n",
              "      <td>0-7 days</td>\n",
              "      <td>Free trial</td>\n",
              "      <td>1</td>\n",
              "    </tr>\n",
              "  </tbody>\n",
              "</table>\n",
              "</div>"
            ],
            "text/plain": [
              "   customer_id created_date canceled_date  was_subscription_paid  \\\n",
              "0    154536156   2022-09-01    2024-12-31                      1   \n",
              "1    149713408   2022-09-01    2022-09-02                      0   \n",
              "2    153756284   2022-09-01    2022-09-02                      0   \n",
              "\n",
              "  created_month canceled_month  subscription_duration duration_group  \\\n",
              "0       2022-09            NaT                    852            NaN   \n",
              "1       2022-09        2022-09                      1       0-7 days   \n",
              "2       2022-09        2022-09                      1       0-7 days   \n",
              "\n",
              "  customer_category  canceled  \n",
              "0            Active         0  \n",
              "1        Free trial         1  \n",
              "2        Free trial         1  "
            ]
          },
          "execution_count": 33,
          "metadata": {},
          "output_type": "execute_result"
        }
      ],
      "source": [
        "# If \"canceled_date\" is not null, it means the subscription was canceled.\n",
        "\n",
        "model_df['canceled'] = model_df['canceled_month'].notna().astype(int)\n",
        "model_df.head(3)"
      ]
    },
    {
      "cell_type": "code",
      "execution_count": 34,
      "metadata": {
        "colab": {
          "base_uri": "https://localhost:8080/",
          "height": 227
        },
        "id": "fbfGV0tDsZZz",
        "outputId": "258ab531-1447-4c03-b1f5-01b3a53cb001"
      },
      "outputs": [
        {
          "data": {
            "text/html": [
              "<div>\n",
              "<style scoped>\n",
              "    .dataframe tbody tr th:only-of-type {\n",
              "        vertical-align: middle;\n",
              "    }\n",
              "\n",
              "    .dataframe tbody tr th {\n",
              "        vertical-align: top;\n",
              "    }\n",
              "\n",
              "    .dataframe thead th {\n",
              "        text-align: right;\n",
              "    }\n",
              "</style>\n",
              "<table border=\"1\" class=\"dataframe\">\n",
              "  <thead>\n",
              "    <tr style=\"text-align: right;\">\n",
              "      <th></th>\n",
              "      <th>customer_id</th>\n",
              "      <th>created_date</th>\n",
              "      <th>canceled_date</th>\n",
              "      <th>was_subscription_paid</th>\n",
              "      <th>created_month</th>\n",
              "      <th>canceled_month</th>\n",
              "      <th>subscription_duration</th>\n",
              "      <th>canceled</th>\n",
              "      <th>duration_group_8-30 days</th>\n",
              "      <th>duration_group_31-60 days</th>\n",
              "      <th>...</th>\n",
              "      <th>duration_group_151-180 days</th>\n",
              "      <th>duration_group_181-365 days</th>\n",
              "      <th>duration_group_1-2 years</th>\n",
              "      <th>customer_category_Churner (within a month)</th>\n",
              "      <th>customer_category_Free trial</th>\n",
              "      <th>customer_category_Irregular Subscriber</th>\n",
              "      <th>customer_category_Long-term (6 months to 1 year)</th>\n",
              "      <th>customer_category_Mid-term (3 months to 6 months)</th>\n",
              "      <th>customer_category_Resubscriber</th>\n",
              "      <th>customer_category_Short-term (1 to 3 months)</th>\n",
              "    </tr>\n",
              "  </thead>\n",
              "  <tbody>\n",
              "    <tr>\n",
              "      <th>0</th>\n",
              "      <td>154536156</td>\n",
              "      <td>2022-09-01</td>\n",
              "      <td>2024-12-31</td>\n",
              "      <td>1</td>\n",
              "      <td>2022-09</td>\n",
              "      <td>NaT</td>\n",
              "      <td>852</td>\n",
              "      <td>0</td>\n",
              "      <td>False</td>\n",
              "      <td>False</td>\n",
              "      <td>...</td>\n",
              "      <td>False</td>\n",
              "      <td>False</td>\n",
              "      <td>False</td>\n",
              "      <td>False</td>\n",
              "      <td>False</td>\n",
              "      <td>False</td>\n",
              "      <td>False</td>\n",
              "      <td>False</td>\n",
              "      <td>False</td>\n",
              "      <td>False</td>\n",
              "    </tr>\n",
              "    <tr>\n",
              "      <th>1</th>\n",
              "      <td>149713408</td>\n",
              "      <td>2022-09-01</td>\n",
              "      <td>2022-09-02</td>\n",
              "      <td>0</td>\n",
              "      <td>2022-09</td>\n",
              "      <td>2022-09</td>\n",
              "      <td>1</td>\n",
              "      <td>1</td>\n",
              "      <td>False</td>\n",
              "      <td>False</td>\n",
              "      <td>...</td>\n",
              "      <td>False</td>\n",
              "      <td>False</td>\n",
              "      <td>False</td>\n",
              "      <td>False</td>\n",
              "      <td>True</td>\n",
              "      <td>False</td>\n",
              "      <td>False</td>\n",
              "      <td>False</td>\n",
              "      <td>False</td>\n",
              "      <td>False</td>\n",
              "    </tr>\n",
              "    <tr>\n",
              "      <th>2</th>\n",
              "      <td>153756284</td>\n",
              "      <td>2022-09-01</td>\n",
              "      <td>2022-09-02</td>\n",
              "      <td>0</td>\n",
              "      <td>2022-09</td>\n",
              "      <td>2022-09</td>\n",
              "      <td>1</td>\n",
              "      <td>1</td>\n",
              "      <td>False</td>\n",
              "      <td>False</td>\n",
              "      <td>...</td>\n",
              "      <td>False</td>\n",
              "      <td>False</td>\n",
              "      <td>False</td>\n",
              "      <td>False</td>\n",
              "      <td>True</td>\n",
              "      <td>False</td>\n",
              "      <td>False</td>\n",
              "      <td>False</td>\n",
              "      <td>False</td>\n",
              "      <td>False</td>\n",
              "    </tr>\n",
              "  </tbody>\n",
              "</table>\n",
              "<p>3 rows × 23 columns</p>\n",
              "</div>"
            ],
            "text/plain": [
              "   customer_id created_date canceled_date  was_subscription_paid  \\\n",
              "0    154536156   2022-09-01    2024-12-31                      1   \n",
              "1    149713408   2022-09-01    2022-09-02                      0   \n",
              "2    153756284   2022-09-01    2022-09-02                      0   \n",
              "\n",
              "  created_month canceled_month  subscription_duration  canceled  \\\n",
              "0       2022-09            NaT                    852         0   \n",
              "1       2022-09        2022-09                      1         1   \n",
              "2       2022-09        2022-09                      1         1   \n",
              "\n",
              "   duration_group_8-30 days  duration_group_31-60 days  ...  \\\n",
              "0                     False                      False  ...   \n",
              "1                     False                      False  ...   \n",
              "2                     False                      False  ...   \n",
              "\n",
              "   duration_group_151-180 days  duration_group_181-365 days  \\\n",
              "0                        False                        False   \n",
              "1                        False                        False   \n",
              "2                        False                        False   \n",
              "\n",
              "   duration_group_1-2 years  customer_category_Churner (within a month)  \\\n",
              "0                     False                                       False   \n",
              "1                     False                                       False   \n",
              "2                     False                                       False   \n",
              "\n",
              "   customer_category_Free trial  customer_category_Irregular Subscriber  \\\n",
              "0                         False                                   False   \n",
              "1                          True                                   False   \n",
              "2                          True                                   False   \n",
              "\n",
              "   customer_category_Long-term (6 months to 1 year)  \\\n",
              "0                                             False   \n",
              "1                                             False   \n",
              "2                                             False   \n",
              "\n",
              "   customer_category_Mid-term (3 months to 6 months)  \\\n",
              "0                                              False   \n",
              "1                                              False   \n",
              "2                                              False   \n",
              "\n",
              "   customer_category_Resubscriber  \\\n",
              "0                           False   \n",
              "1                           False   \n",
              "2                           False   \n",
              "\n",
              "   customer_category_Short-term (1 to 3 months)  \n",
              "0                                         False  \n",
              "1                                         False  \n",
              "2                                         False  \n",
              "\n",
              "[3 rows x 23 columns]"
            ]
          },
          "execution_count": 34,
          "metadata": {},
          "output_type": "execute_result"
        }
      ],
      "source": [
        "# Convert categorical features into numerical format using one-hot encoding or label encoding.\n",
        "\n",
        "model_df = pd.get_dummies(model_df, columns=['duration_group', 'customer_category'], drop_first=True) # drop_first = True means delete original column after encoding\n",
        "model_df.head(3)"
      ]
    },
    {
      "cell_type": "code",
      "execution_count": 35,
      "metadata": {
        "colab": {
          "base_uri": "https://localhost:8080/",
          "height": 227
        },
        "id": "UhUxU1JggqQn",
        "outputId": "1fa751de-2a23-4522-9984-6b13ad6cc0c5"
      },
      "outputs": [
        {
          "data": {
            "text/html": [
              "<div>\n",
              "<style scoped>\n",
              "    .dataframe tbody tr th:only-of-type {\n",
              "        vertical-align: middle;\n",
              "    }\n",
              "\n",
              "    .dataframe tbody tr th {\n",
              "        vertical-align: top;\n",
              "    }\n",
              "\n",
              "    .dataframe thead th {\n",
              "        text-align: right;\n",
              "    }\n",
              "</style>\n",
              "<table border=\"1\" class=\"dataframe\">\n",
              "  <thead>\n",
              "    <tr style=\"text-align: right;\">\n",
              "      <th></th>\n",
              "      <th>customer_id</th>\n",
              "      <th>was_subscription_paid</th>\n",
              "      <th>created_month</th>\n",
              "      <th>canceled_month</th>\n",
              "      <th>subscription_duration</th>\n",
              "      <th>canceled</th>\n",
              "      <th>duration_group_8-30 days</th>\n",
              "      <th>duration_group_31-60 days</th>\n",
              "      <th>duration_group_61-90 days</th>\n",
              "      <th>duration_group_91-120 days</th>\n",
              "      <th>...</th>\n",
              "      <th>duration_group_1-2 years</th>\n",
              "      <th>customer_category_Churner (within a month)</th>\n",
              "      <th>customer_category_Free trial</th>\n",
              "      <th>customer_category_Irregular Subscriber</th>\n",
              "      <th>customer_category_Long-term (6 months to 1 year)</th>\n",
              "      <th>customer_category_Mid-term (3 months to 6 months)</th>\n",
              "      <th>customer_category_Resubscriber</th>\n",
              "      <th>customer_category_Short-term (1 to 3 months)</th>\n",
              "      <th>created_month_num</th>\n",
              "      <th>canceled_month_num</th>\n",
              "    </tr>\n",
              "  </thead>\n",
              "  <tbody>\n",
              "    <tr>\n",
              "      <th>0</th>\n",
              "      <td>154536156</td>\n",
              "      <td>1</td>\n",
              "      <td>2022-09</td>\n",
              "      <td>NaT</td>\n",
              "      <td>852</td>\n",
              "      <td>0</td>\n",
              "      <td>False</td>\n",
              "      <td>False</td>\n",
              "      <td>False</td>\n",
              "      <td>False</td>\n",
              "      <td>...</td>\n",
              "      <td>False</td>\n",
              "      <td>False</td>\n",
              "      <td>False</td>\n",
              "      <td>False</td>\n",
              "      <td>False</td>\n",
              "      <td>False</td>\n",
              "      <td>False</td>\n",
              "      <td>False</td>\n",
              "      <td>9</td>\n",
              "      <td>12</td>\n",
              "    </tr>\n",
              "    <tr>\n",
              "      <th>1</th>\n",
              "      <td>149713408</td>\n",
              "      <td>0</td>\n",
              "      <td>2022-09</td>\n",
              "      <td>2022-09</td>\n",
              "      <td>1</td>\n",
              "      <td>1</td>\n",
              "      <td>False</td>\n",
              "      <td>False</td>\n",
              "      <td>False</td>\n",
              "      <td>False</td>\n",
              "      <td>...</td>\n",
              "      <td>False</td>\n",
              "      <td>False</td>\n",
              "      <td>True</td>\n",
              "      <td>False</td>\n",
              "      <td>False</td>\n",
              "      <td>False</td>\n",
              "      <td>False</td>\n",
              "      <td>False</td>\n",
              "      <td>9</td>\n",
              "      <td>9</td>\n",
              "    </tr>\n",
              "    <tr>\n",
              "      <th>2</th>\n",
              "      <td>153756284</td>\n",
              "      <td>0</td>\n",
              "      <td>2022-09</td>\n",
              "      <td>2022-09</td>\n",
              "      <td>1</td>\n",
              "      <td>1</td>\n",
              "      <td>False</td>\n",
              "      <td>False</td>\n",
              "      <td>False</td>\n",
              "      <td>False</td>\n",
              "      <td>...</td>\n",
              "      <td>False</td>\n",
              "      <td>False</td>\n",
              "      <td>True</td>\n",
              "      <td>False</td>\n",
              "      <td>False</td>\n",
              "      <td>False</td>\n",
              "      <td>False</td>\n",
              "      <td>False</td>\n",
              "      <td>9</td>\n",
              "      <td>9</td>\n",
              "    </tr>\n",
              "  </tbody>\n",
              "</table>\n",
              "<p>3 rows × 23 columns</p>\n",
              "</div>"
            ],
            "text/plain": [
              "   customer_id  was_subscription_paid created_month canceled_month  \\\n",
              "0    154536156                      1       2022-09            NaT   \n",
              "1    149713408                      0       2022-09        2022-09   \n",
              "2    153756284                      0       2022-09        2022-09   \n",
              "\n",
              "   subscription_duration  canceled  duration_group_8-30 days  \\\n",
              "0                    852         0                     False   \n",
              "1                      1         1                     False   \n",
              "2                      1         1                     False   \n",
              "\n",
              "   duration_group_31-60 days  duration_group_61-90 days  \\\n",
              "0                      False                      False   \n",
              "1                      False                      False   \n",
              "2                      False                      False   \n",
              "\n",
              "   duration_group_91-120 days  ...  duration_group_1-2 years  \\\n",
              "0                       False  ...                     False   \n",
              "1                       False  ...                     False   \n",
              "2                       False  ...                     False   \n",
              "\n",
              "   customer_category_Churner (within a month)  customer_category_Free trial  \\\n",
              "0                                       False                         False   \n",
              "1                                       False                          True   \n",
              "2                                       False                          True   \n",
              "\n",
              "   customer_category_Irregular Subscriber  \\\n",
              "0                                   False   \n",
              "1                                   False   \n",
              "2                                   False   \n",
              "\n",
              "   customer_category_Long-term (6 months to 1 year)  \\\n",
              "0                                             False   \n",
              "1                                             False   \n",
              "2                                             False   \n",
              "\n",
              "   customer_category_Mid-term (3 months to 6 months)  \\\n",
              "0                                              False   \n",
              "1                                              False   \n",
              "2                                              False   \n",
              "\n",
              "   customer_category_Resubscriber  \\\n",
              "0                           False   \n",
              "1                           False   \n",
              "2                           False   \n",
              "\n",
              "   customer_category_Short-term (1 to 3 months)  created_month_num  \\\n",
              "0                                         False                  9   \n",
              "1                                         False                  9   \n",
              "2                                         False                  9   \n",
              "\n",
              "   canceled_month_num  \n",
              "0                  12  \n",
              "1                   9  \n",
              "2                   9  \n",
              "\n",
              "[3 rows x 23 columns]"
            ]
          },
          "execution_count": 35,
          "metadata": {},
          "output_type": "execute_result"
        }
      ],
      "source": [
        "# Convert created_month column to int of month_num jan as 1 till dec 12\n",
        "\n",
        "# Convert 'created_month' to datetime objects if it's not already\n",
        "model_df['created_date'] = pd.to_datetime(model_df['created_date'], errors='coerce')\n",
        "model_df['canceled_date'] = pd.to_datetime(model_df['canceled_date'], errors='coerce')\n",
        "\n",
        "# Convert 'created_month' to integer representation of month number (1-12)\n",
        "model_df['created_month_num'] = model_df['created_date'].dt.month\n",
        "model_df['canceled_month_num'] = model_df['canceled_date'].dt.month\n",
        "\n",
        "# Remove the original 'created_month' column if you don't need it anymore\n",
        "model_df = model_df.drop('created_date', axis=1)\n",
        "model_df = model_df.drop('canceled_date', axis=1)\n",
        "\n",
        "# Display the updated DataFrame\n",
        "model_df.head(3)"
      ]
    },
    {
      "cell_type": "code",
      "execution_count": 36,
      "metadata": {
        "id": "XO9BcnCwtF-s"
      },
      "outputs": [],
      "source": [
        "features = ['was_subscription_paid', 'created_month_num', 'canceled_month_num', 'subscription_duration', 'duration_group_8-30 days',\n",
        "            'duration_group_31-60 days', 'duration_group_61-90 days', 'duration_group_91-120 days', 'duration_group_121-150 days',\n",
        "            'duration_group_151-180 days', 'duration_group_181-365 days', 'duration_group_1-2 years',\n",
        "            'customer_category_Free trial', 'customer_category_Irregular Subscriber', 'customer_category_Long-term (6 months to 1 year)',\n",
        "            'customer_category_Mid-term (3 months to 6 months)', 'customer_category_Resubscriber', 'customer_category_Short-term (1 to 3 months)']\n",
        "\n",
        "target = 'canceled'\n",
        "\n",
        "X = model_df[features]\n",
        "y = model_df[target]\n"
      ]
    },
    {
      "cell_type": "markdown",
      "metadata": {
        "id": "HVdbK2dced0Y"
      },
      "source": [
        "## b. Train-Test Split"
      ]
    },
    {
      "cell_type": "code",
      "execution_count": 37,
      "metadata": {
        "colab": {
          "base_uri": "https://localhost:8080/",
          "height": 198
        },
        "id": "LTgF7N6jeYt_",
        "outputId": "747271bc-34d3-4c4a-fe1b-fe1e6da3bd62"
      },
      "outputs": [
        {
          "data": {
            "text/html": [
              "<div>\n",
              "<style scoped>\n",
              "    .dataframe tbody tr th:only-of-type {\n",
              "        vertical-align: middle;\n",
              "    }\n",
              "\n",
              "    .dataframe tbody tr th {\n",
              "        vertical-align: top;\n",
              "    }\n",
              "\n",
              "    .dataframe thead th {\n",
              "        text-align: right;\n",
              "    }\n",
              "</style>\n",
              "<table border=\"1\" class=\"dataframe\">\n",
              "  <thead>\n",
              "    <tr style=\"text-align: right;\">\n",
              "      <th></th>\n",
              "      <th>was_subscription_paid</th>\n",
              "      <th>created_month_num</th>\n",
              "      <th>canceled_month_num</th>\n",
              "      <th>subscription_duration</th>\n",
              "      <th>duration_group_8-30 days</th>\n",
              "      <th>duration_group_31-60 days</th>\n",
              "      <th>duration_group_61-90 days</th>\n",
              "      <th>duration_group_91-120 days</th>\n",
              "      <th>duration_group_121-150 days</th>\n",
              "      <th>duration_group_151-180 days</th>\n",
              "      <th>duration_group_181-365 days</th>\n",
              "      <th>duration_group_1-2 years</th>\n",
              "      <th>customer_category_Free trial</th>\n",
              "      <th>customer_category_Irregular Subscriber</th>\n",
              "      <th>customer_category_Long-term (6 months to 1 year)</th>\n",
              "      <th>customer_category_Mid-term (3 months to 6 months)</th>\n",
              "      <th>customer_category_Resubscriber</th>\n",
              "      <th>customer_category_Short-term (1 to 3 months)</th>\n",
              "    </tr>\n",
              "  </thead>\n",
              "  <tbody>\n",
              "    <tr>\n",
              "      <th>2095</th>\n",
              "      <td>1</td>\n",
              "      <td>5</td>\n",
              "      <td>6</td>\n",
              "      <td>23</td>\n",
              "      <td>True</td>\n",
              "      <td>False</td>\n",
              "      <td>False</td>\n",
              "      <td>False</td>\n",
              "      <td>False</td>\n",
              "      <td>False</td>\n",
              "      <td>False</td>\n",
              "      <td>False</td>\n",
              "      <td>False</td>\n",
              "      <td>False</td>\n",
              "      <td>False</td>\n",
              "      <td>False</td>\n",
              "      <td>False</td>\n",
              "      <td>False</td>\n",
              "    </tr>\n",
              "    <tr>\n",
              "      <th>229</th>\n",
              "      <td>1</td>\n",
              "      <td>10</td>\n",
              "      <td>10</td>\n",
              "      <td>24</td>\n",
              "      <td>True</td>\n",
              "      <td>False</td>\n",
              "      <td>False</td>\n",
              "      <td>False</td>\n",
              "      <td>False</td>\n",
              "      <td>False</td>\n",
              "      <td>False</td>\n",
              "      <td>False</td>\n",
              "      <td>False</td>\n",
              "      <td>False</td>\n",
              "      <td>False</td>\n",
              "      <td>False</td>\n",
              "      <td>False</td>\n",
              "      <td>False</td>\n",
              "    </tr>\n",
              "    <tr>\n",
              "      <th>2567</th>\n",
              "      <td>1</td>\n",
              "      <td>7</td>\n",
              "      <td>8</td>\n",
              "      <td>38</td>\n",
              "      <td>False</td>\n",
              "      <td>True</td>\n",
              "      <td>False</td>\n",
              "      <td>False</td>\n",
              "      <td>False</td>\n",
              "      <td>False</td>\n",
              "      <td>False</td>\n",
              "      <td>False</td>\n",
              "      <td>False</td>\n",
              "      <td>False</td>\n",
              "      <td>False</td>\n",
              "      <td>False</td>\n",
              "      <td>True</td>\n",
              "      <td>False</td>\n",
              "    </tr>\n",
              "  </tbody>\n",
              "</table>\n",
              "</div>"
            ],
            "text/plain": [
              "      was_subscription_paid  created_month_num  canceled_month_num  \\\n",
              "2095                      1                  5                   6   \n",
              "229                       1                 10                  10   \n",
              "2567                      1                  7                   8   \n",
              "\n",
              "      subscription_duration  duration_group_8-30 days  \\\n",
              "2095                     23                      True   \n",
              "229                      24                      True   \n",
              "2567                     38                     False   \n",
              "\n",
              "      duration_group_31-60 days  duration_group_61-90 days  \\\n",
              "2095                      False                      False   \n",
              "229                       False                      False   \n",
              "2567                       True                      False   \n",
              "\n",
              "      duration_group_91-120 days  duration_group_121-150 days  \\\n",
              "2095                       False                        False   \n",
              "229                        False                        False   \n",
              "2567                       False                        False   \n",
              "\n",
              "      duration_group_151-180 days  duration_group_181-365 days  \\\n",
              "2095                        False                        False   \n",
              "229                         False                        False   \n",
              "2567                        False                        False   \n",
              "\n",
              "      duration_group_1-2 years  customer_category_Free trial  \\\n",
              "2095                     False                         False   \n",
              "229                      False                         False   \n",
              "2567                     False                         False   \n",
              "\n",
              "      customer_category_Irregular Subscriber  \\\n",
              "2095                                   False   \n",
              "229                                    False   \n",
              "2567                                   False   \n",
              "\n",
              "      customer_category_Long-term (6 months to 1 year)  \\\n",
              "2095                                             False   \n",
              "229                                              False   \n",
              "2567                                             False   \n",
              "\n",
              "      customer_category_Mid-term (3 months to 6 months)  \\\n",
              "2095                                              False   \n",
              "229                                               False   \n",
              "2567                                              False   \n",
              "\n",
              "      customer_category_Resubscriber  \\\n",
              "2095                           False   \n",
              "229                            False   \n",
              "2567                            True   \n",
              "\n",
              "      customer_category_Short-term (1 to 3 months)  \n",
              "2095                                         False  \n",
              "229                                          False  \n",
              "2567                                         False  "
            ]
          },
          "execution_count": 37,
          "metadata": {},
          "output_type": "execute_result"
        }
      ],
      "source": [
        "from sklearn.model_selection import train_test_split\n",
        "\n",
        "X_train, X_test, y_train, y_test = train_test_split(X, y, test_size=0.3, random_state=42)\n",
        "X_train.head(3)"
      ]
    },
    {
      "cell_type": "markdown",
      "metadata": {
        "id": "2QDbqfanfUgO"
      },
      "source": [
        "## c. Model Building"
      ]
    },
    {
      "cell_type": "code",
      "execution_count": 38,
      "metadata": {
        "colab": {
          "base_uri": "https://localhost:8080/",
          "height": 80
        },
        "id": "TvphboskfT6m",
        "outputId": "3b1c13b0-a659-4937-9c78-24a84430bced"
      },
      "outputs": [
        {
          "data": {
            "text/html": [
              "<style>#sk-container-id-1 {\n",
              "  /* Definition of color scheme common for light and dark mode */\n",
              "  --sklearn-color-text: black;\n",
              "  --sklearn-color-line: gray;\n",
              "  /* Definition of color scheme for unfitted estimators */\n",
              "  --sklearn-color-unfitted-level-0: #fff5e6;\n",
              "  --sklearn-color-unfitted-level-1: #f6e4d2;\n",
              "  --sklearn-color-unfitted-level-2: #ffe0b3;\n",
              "  --sklearn-color-unfitted-level-3: chocolate;\n",
              "  /* Definition of color scheme for fitted estimators */\n",
              "  --sklearn-color-fitted-level-0: #f0f8ff;\n",
              "  --sklearn-color-fitted-level-1: #d4ebff;\n",
              "  --sklearn-color-fitted-level-2: #b3dbfd;\n",
              "  --sklearn-color-fitted-level-3: cornflowerblue;\n",
              "\n",
              "  /* Specific color for light theme */\n",
              "  --sklearn-color-text-on-default-background: var(--sg-text-color, var(--theme-code-foreground, var(--jp-content-font-color1, black)));\n",
              "  --sklearn-color-background: var(--sg-background-color, var(--theme-background, var(--jp-layout-color0, white)));\n",
              "  --sklearn-color-border-box: var(--sg-text-color, var(--theme-code-foreground, var(--jp-content-font-color1, black)));\n",
              "  --sklearn-color-icon: #696969;\n",
              "\n",
              "  @media (prefers-color-scheme: dark) {\n",
              "    /* Redefinition of color scheme for dark theme */\n",
              "    --sklearn-color-text-on-default-background: var(--sg-text-color, var(--theme-code-foreground, var(--jp-content-font-color1, white)));\n",
              "    --sklearn-color-background: var(--sg-background-color, var(--theme-background, var(--jp-layout-color0, #111)));\n",
              "    --sklearn-color-border-box: var(--sg-text-color, var(--theme-code-foreground, var(--jp-content-font-color1, white)));\n",
              "    --sklearn-color-icon: #878787;\n",
              "  }\n",
              "}\n",
              "\n",
              "#sk-container-id-1 {\n",
              "  color: var(--sklearn-color-text);\n",
              "}\n",
              "\n",
              "#sk-container-id-1 pre {\n",
              "  padding: 0;\n",
              "}\n",
              "\n",
              "#sk-container-id-1 input.sk-hidden--visually {\n",
              "  border: 0;\n",
              "  clip: rect(1px 1px 1px 1px);\n",
              "  clip: rect(1px, 1px, 1px, 1px);\n",
              "  height: 1px;\n",
              "  margin: -1px;\n",
              "  overflow: hidden;\n",
              "  padding: 0;\n",
              "  position: absolute;\n",
              "  width: 1px;\n",
              "}\n",
              "\n",
              "#sk-container-id-1 div.sk-dashed-wrapped {\n",
              "  border: 1px dashed var(--sklearn-color-line);\n",
              "  margin: 0 0.4em 0.5em 0.4em;\n",
              "  box-sizing: border-box;\n",
              "  padding-bottom: 0.4em;\n",
              "  background-color: var(--sklearn-color-background);\n",
              "}\n",
              "\n",
              "#sk-container-id-1 div.sk-container {\n",
              "  /* jupyter's `normalize.less` sets `[hidden] { display: none; }`\n",
              "     but bootstrap.min.css set `[hidden] { display: none !important; }`\n",
              "     so we also need the `!important` here to be able to override the\n",
              "     default hidden behavior on the sphinx rendered scikit-learn.org.\n",
              "     See: https://github.com/scikit-learn/scikit-learn/issues/21755 */\n",
              "  display: inline-block !important;\n",
              "  position: relative;\n",
              "}\n",
              "\n",
              "#sk-container-id-1 div.sk-text-repr-fallback {\n",
              "  display: none;\n",
              "}\n",
              "\n",
              "div.sk-parallel-item,\n",
              "div.sk-serial,\n",
              "div.sk-item {\n",
              "  /* draw centered vertical line to link estimators */\n",
              "  background-image: linear-gradient(var(--sklearn-color-text-on-default-background), var(--sklearn-color-text-on-default-background));\n",
              "  background-size: 2px 100%;\n",
              "  background-repeat: no-repeat;\n",
              "  background-position: center center;\n",
              "}\n",
              "\n",
              "/* Parallel-specific style estimator block */\n",
              "\n",
              "#sk-container-id-1 div.sk-parallel-item::after {\n",
              "  content: \"\";\n",
              "  width: 100%;\n",
              "  border-bottom: 2px solid var(--sklearn-color-text-on-default-background);\n",
              "  flex-grow: 1;\n",
              "}\n",
              "\n",
              "#sk-container-id-1 div.sk-parallel {\n",
              "  display: flex;\n",
              "  align-items: stretch;\n",
              "  justify-content: center;\n",
              "  background-color: var(--sklearn-color-background);\n",
              "  position: relative;\n",
              "}\n",
              "\n",
              "#sk-container-id-1 div.sk-parallel-item {\n",
              "  display: flex;\n",
              "  flex-direction: column;\n",
              "}\n",
              "\n",
              "#sk-container-id-1 div.sk-parallel-item:first-child::after {\n",
              "  align-self: flex-end;\n",
              "  width: 50%;\n",
              "}\n",
              "\n",
              "#sk-container-id-1 div.sk-parallel-item:last-child::after {\n",
              "  align-self: flex-start;\n",
              "  width: 50%;\n",
              "}\n",
              "\n",
              "#sk-container-id-1 div.sk-parallel-item:only-child::after {\n",
              "  width: 0;\n",
              "}\n",
              "\n",
              "/* Serial-specific style estimator block */\n",
              "\n",
              "#sk-container-id-1 div.sk-serial {\n",
              "  display: flex;\n",
              "  flex-direction: column;\n",
              "  align-items: center;\n",
              "  background-color: var(--sklearn-color-background);\n",
              "  padding-right: 1em;\n",
              "  padding-left: 1em;\n",
              "}\n",
              "\n",
              "\n",
              "/* Toggleable style: style used for estimator/Pipeline/ColumnTransformer box that is\n",
              "clickable and can be expanded/collapsed.\n",
              "- Pipeline and ColumnTransformer use this feature and define the default style\n",
              "- Estimators will overwrite some part of the style using the `sk-estimator` class\n",
              "*/\n",
              "\n",
              "/* Pipeline and ColumnTransformer style (default) */\n",
              "\n",
              "#sk-container-id-1 div.sk-toggleable {\n",
              "  /* Default theme specific background. It is overwritten whether we have a\n",
              "  specific estimator or a Pipeline/ColumnTransformer */\n",
              "  background-color: var(--sklearn-color-background);\n",
              "}\n",
              "\n",
              "/* Toggleable label */\n",
              "#sk-container-id-1 label.sk-toggleable__label {\n",
              "  cursor: pointer;\n",
              "  display: block;\n",
              "  width: 100%;\n",
              "  margin-bottom: 0;\n",
              "  padding: 0.5em;\n",
              "  box-sizing: border-box;\n",
              "  text-align: center;\n",
              "}\n",
              "\n",
              "#sk-container-id-1 label.sk-toggleable__label-arrow:before {\n",
              "  /* Arrow on the left of the label */\n",
              "  content: \"▸\";\n",
              "  float: left;\n",
              "  margin-right: 0.25em;\n",
              "  color: var(--sklearn-color-icon);\n",
              "}\n",
              "\n",
              "#sk-container-id-1 label.sk-toggleable__label-arrow:hover:before {\n",
              "  color: var(--sklearn-color-text);\n",
              "}\n",
              "\n",
              "/* Toggleable content - dropdown */\n",
              "\n",
              "#sk-container-id-1 div.sk-toggleable__content {\n",
              "  max-height: 0;\n",
              "  max-width: 0;\n",
              "  overflow: hidden;\n",
              "  text-align: left;\n",
              "  /* unfitted */\n",
              "  background-color: var(--sklearn-color-unfitted-level-0);\n",
              "}\n",
              "\n",
              "#sk-container-id-1 div.sk-toggleable__content.fitted {\n",
              "  /* fitted */\n",
              "  background-color: var(--sklearn-color-fitted-level-0);\n",
              "}\n",
              "\n",
              "#sk-container-id-1 div.sk-toggleable__content pre {\n",
              "  margin: 0.2em;\n",
              "  border-radius: 0.25em;\n",
              "  color: var(--sklearn-color-text);\n",
              "  /* unfitted */\n",
              "  background-color: var(--sklearn-color-unfitted-level-0);\n",
              "}\n",
              "\n",
              "#sk-container-id-1 div.sk-toggleable__content.fitted pre {\n",
              "  /* unfitted */\n",
              "  background-color: var(--sklearn-color-fitted-level-0);\n",
              "}\n",
              "\n",
              "#sk-container-id-1 input.sk-toggleable__control:checked~div.sk-toggleable__content {\n",
              "  /* Expand drop-down */\n",
              "  max-height: 200px;\n",
              "  max-width: 100%;\n",
              "  overflow: auto;\n",
              "}\n",
              "\n",
              "#sk-container-id-1 input.sk-toggleable__control:checked~label.sk-toggleable__label-arrow:before {\n",
              "  content: \"▾\";\n",
              "}\n",
              "\n",
              "/* Pipeline/ColumnTransformer-specific style */\n",
              "\n",
              "#sk-container-id-1 div.sk-label input.sk-toggleable__control:checked~label.sk-toggleable__label {\n",
              "  color: var(--sklearn-color-text);\n",
              "  background-color: var(--sklearn-color-unfitted-level-2);\n",
              "}\n",
              "\n",
              "#sk-container-id-1 div.sk-label.fitted input.sk-toggleable__control:checked~label.sk-toggleable__label {\n",
              "  background-color: var(--sklearn-color-fitted-level-2);\n",
              "}\n",
              "\n",
              "/* Estimator-specific style */\n",
              "\n",
              "/* Colorize estimator box */\n",
              "#sk-container-id-1 div.sk-estimator input.sk-toggleable__control:checked~label.sk-toggleable__label {\n",
              "  /* unfitted */\n",
              "  background-color: var(--sklearn-color-unfitted-level-2);\n",
              "}\n",
              "\n",
              "#sk-container-id-1 div.sk-estimator.fitted input.sk-toggleable__control:checked~label.sk-toggleable__label {\n",
              "  /* fitted */\n",
              "  background-color: var(--sklearn-color-fitted-level-2);\n",
              "}\n",
              "\n",
              "#sk-container-id-1 div.sk-label label.sk-toggleable__label,\n",
              "#sk-container-id-1 div.sk-label label {\n",
              "  /* The background is the default theme color */\n",
              "  color: var(--sklearn-color-text-on-default-background);\n",
              "}\n",
              "\n",
              "/* On hover, darken the color of the background */\n",
              "#sk-container-id-1 div.sk-label:hover label.sk-toggleable__label {\n",
              "  color: var(--sklearn-color-text);\n",
              "  background-color: var(--sklearn-color-unfitted-level-2);\n",
              "}\n",
              "\n",
              "/* Label box, darken color on hover, fitted */\n",
              "#sk-container-id-1 div.sk-label.fitted:hover label.sk-toggleable__label.fitted {\n",
              "  color: var(--sklearn-color-text);\n",
              "  background-color: var(--sklearn-color-fitted-level-2);\n",
              "}\n",
              "\n",
              "/* Estimator label */\n",
              "\n",
              "#sk-container-id-1 div.sk-label label {\n",
              "  font-family: monospace;\n",
              "  font-weight: bold;\n",
              "  display: inline-block;\n",
              "  line-height: 1.2em;\n",
              "}\n",
              "\n",
              "#sk-container-id-1 div.sk-label-container {\n",
              "  text-align: center;\n",
              "}\n",
              "\n",
              "/* Estimator-specific */\n",
              "#sk-container-id-1 div.sk-estimator {\n",
              "  font-family: monospace;\n",
              "  border: 1px dotted var(--sklearn-color-border-box);\n",
              "  border-radius: 0.25em;\n",
              "  box-sizing: border-box;\n",
              "  margin-bottom: 0.5em;\n",
              "  /* unfitted */\n",
              "  background-color: var(--sklearn-color-unfitted-level-0);\n",
              "}\n",
              "\n",
              "#sk-container-id-1 div.sk-estimator.fitted {\n",
              "  /* fitted */\n",
              "  background-color: var(--sklearn-color-fitted-level-0);\n",
              "}\n",
              "\n",
              "/* on hover */\n",
              "#sk-container-id-1 div.sk-estimator:hover {\n",
              "  /* unfitted */\n",
              "  background-color: var(--sklearn-color-unfitted-level-2);\n",
              "}\n",
              "\n",
              "#sk-container-id-1 div.sk-estimator.fitted:hover {\n",
              "  /* fitted */\n",
              "  background-color: var(--sklearn-color-fitted-level-2);\n",
              "}\n",
              "\n",
              "/* Specification for estimator info (e.g. \"i\" and \"?\") */\n",
              "\n",
              "/* Common style for \"i\" and \"?\" */\n",
              "\n",
              ".sk-estimator-doc-link,\n",
              "a:link.sk-estimator-doc-link,\n",
              "a:visited.sk-estimator-doc-link {\n",
              "  float: right;\n",
              "  font-size: smaller;\n",
              "  line-height: 1em;\n",
              "  font-family: monospace;\n",
              "  background-color: var(--sklearn-color-background);\n",
              "  border-radius: 1em;\n",
              "  height: 1em;\n",
              "  width: 1em;\n",
              "  text-decoration: none !important;\n",
              "  margin-left: 1ex;\n",
              "  /* unfitted */\n",
              "  border: var(--sklearn-color-unfitted-level-1) 1pt solid;\n",
              "  color: var(--sklearn-color-unfitted-level-1);\n",
              "}\n",
              "\n",
              ".sk-estimator-doc-link.fitted,\n",
              "a:link.sk-estimator-doc-link.fitted,\n",
              "a:visited.sk-estimator-doc-link.fitted {\n",
              "  /* fitted */\n",
              "  border: var(--sklearn-color-fitted-level-1) 1pt solid;\n",
              "  color: var(--sklearn-color-fitted-level-1);\n",
              "}\n",
              "\n",
              "/* On hover */\n",
              "div.sk-estimator:hover .sk-estimator-doc-link:hover,\n",
              ".sk-estimator-doc-link:hover,\n",
              "div.sk-label-container:hover .sk-estimator-doc-link:hover,\n",
              ".sk-estimator-doc-link:hover {\n",
              "  /* unfitted */\n",
              "  background-color: var(--sklearn-color-unfitted-level-3);\n",
              "  color: var(--sklearn-color-background);\n",
              "  text-decoration: none;\n",
              "}\n",
              "\n",
              "div.sk-estimator.fitted:hover .sk-estimator-doc-link.fitted:hover,\n",
              ".sk-estimator-doc-link.fitted:hover,\n",
              "div.sk-label-container:hover .sk-estimator-doc-link.fitted:hover,\n",
              ".sk-estimator-doc-link.fitted:hover {\n",
              "  /* fitted */\n",
              "  background-color: var(--sklearn-color-fitted-level-3);\n",
              "  color: var(--sklearn-color-background);\n",
              "  text-decoration: none;\n",
              "}\n",
              "\n",
              "/* Span, style for the box shown on hovering the info icon */\n",
              ".sk-estimator-doc-link span {\n",
              "  display: none;\n",
              "  z-index: 9999;\n",
              "  position: relative;\n",
              "  font-weight: normal;\n",
              "  right: .2ex;\n",
              "  padding: .5ex;\n",
              "  margin: .5ex;\n",
              "  width: min-content;\n",
              "  min-width: 20ex;\n",
              "  max-width: 50ex;\n",
              "  color: var(--sklearn-color-text);\n",
              "  box-shadow: 2pt 2pt 4pt #999;\n",
              "  /* unfitted */\n",
              "  background: var(--sklearn-color-unfitted-level-0);\n",
              "  border: .5pt solid var(--sklearn-color-unfitted-level-3);\n",
              "}\n",
              "\n",
              ".sk-estimator-doc-link.fitted span {\n",
              "  /* fitted */\n",
              "  background: var(--sklearn-color-fitted-level-0);\n",
              "  border: var(--sklearn-color-fitted-level-3);\n",
              "}\n",
              "\n",
              ".sk-estimator-doc-link:hover span {\n",
              "  display: block;\n",
              "}\n",
              "\n",
              "/* \"?\"-specific style due to the `<a>` HTML tag */\n",
              "\n",
              "#sk-container-id-1 a.estimator_doc_link {\n",
              "  float: right;\n",
              "  font-size: 1rem;\n",
              "  line-height: 1em;\n",
              "  font-family: monospace;\n",
              "  background-color: var(--sklearn-color-background);\n",
              "  border-radius: 1rem;\n",
              "  height: 1rem;\n",
              "  width: 1rem;\n",
              "  text-decoration: none;\n",
              "  /* unfitted */\n",
              "  color: var(--sklearn-color-unfitted-level-1);\n",
              "  border: var(--sklearn-color-unfitted-level-1) 1pt solid;\n",
              "}\n",
              "\n",
              "#sk-container-id-1 a.estimator_doc_link.fitted {\n",
              "  /* fitted */\n",
              "  border: var(--sklearn-color-fitted-level-1) 1pt solid;\n",
              "  color: var(--sklearn-color-fitted-level-1);\n",
              "}\n",
              "\n",
              "/* On hover */\n",
              "#sk-container-id-1 a.estimator_doc_link:hover {\n",
              "  /* unfitted */\n",
              "  background-color: var(--sklearn-color-unfitted-level-3);\n",
              "  color: var(--sklearn-color-background);\n",
              "  text-decoration: none;\n",
              "}\n",
              "\n",
              "#sk-container-id-1 a.estimator_doc_link.fitted:hover {\n",
              "  /* fitted */\n",
              "  background-color: var(--sklearn-color-fitted-level-3);\n",
              "}\n",
              "</style><div id=\"sk-container-id-1\" class=\"sk-top-container\"><div class=\"sk-text-repr-fallback\"><pre>RandomForestClassifier(random_state=42)</pre><b>In a Jupyter environment, please rerun this cell to show the HTML representation or trust the notebook. <br />On GitHub, the HTML representation is unable to render, please try loading this page with nbviewer.org.</b></div><div class=\"sk-container\" hidden><div class=\"sk-item\"><div class=\"sk-estimator fitted sk-toggleable\"><input class=\"sk-toggleable__control sk-hidden--visually\" id=\"sk-estimator-id-1\" type=\"checkbox\" checked><label for=\"sk-estimator-id-1\" class=\"sk-toggleable__label fitted sk-toggleable__label-arrow fitted\">&nbsp;&nbsp;RandomForestClassifier<a class=\"sk-estimator-doc-link fitted\" rel=\"noreferrer\" target=\"_blank\" href=\"https://scikit-learn.org/1.5/modules/generated/sklearn.ensemble.RandomForestClassifier.html\">?<span>Documentation for RandomForestClassifier</span></a><span class=\"sk-estimator-doc-link fitted\">i<span>Fitted</span></span></label><div class=\"sk-toggleable__content fitted\"><pre>RandomForestClassifier(random_state=42)</pre></div> </div></div></div></div>"
            ],
            "text/plain": [
              "RandomForestClassifier(random_state=42)"
            ]
          },
          "execution_count": 38,
          "metadata": {},
          "output_type": "execute_result"
        }
      ],
      "source": [
        "from sklearn.ensemble import RandomForestClassifier\n",
        "\n",
        "model = RandomForestClassifier(random_state=42)\n",
        "model.fit(X_train, y_train)"
      ]
    },
    {
      "cell_type": "markdown",
      "metadata": {
        "id": "GFPS-b2OpA0h"
      },
      "source": [
        "## d. Model Evaluation"
      ]
    },
    {
      "cell_type": "markdown",
      "metadata": {
        "id": "xtrbHgOarXB9"
      },
      "source": [
        "- **Accuracy:** Good for balanced datasets, measures overall performance."
      ]
    },
    {
      "cell_type": "code",
      "execution_count": 39,
      "metadata": {
        "colab": {
          "base_uri": "https://localhost:8080/"
        },
        "id": "FLrAK_VQrKY-",
        "outputId": "17a0d810-8d6d-4cd8-c20f-13d9b8873d79"
      },
      "outputs": [
        {
          "name": "stdout",
          "output_type": "stream",
          "text": [
            "Accuracy: 1.0000\n"
          ]
        }
      ],
      "source": [
        "from sklearn.metrics import accuracy_score\n",
        "\n",
        "y_pred = model.predict(X_test)\n",
        "\n",
        "# Calculate accuracy\n",
        "accuracy = accuracy_score(y_test, y_pred)\n",
        "\n",
        "# Print the accuracy\n",
        "print(f'Accuracy: {accuracy:.4f}')"
      ]
    },
    {
      "cell_type": "markdown",
      "metadata": {
        "id": "we4uh1W0rj1e"
      },
      "source": [
        "- **ROC AUC:** Measures the model's ability to rank positive cases higher than negative ones, useful for understanding the model’s ranking ability across different thresholds."
      ]
    },
    {
      "cell_type": "code",
      "execution_count": 40,
      "metadata": {
        "colab": {
          "base_uri": "https://localhost:8080/"
        },
        "id": "Y1ogz6NVnO_f",
        "outputId": "3ecd9ec5-e537-4269-cfb1-ba1a85c558d5"
      },
      "outputs": [
        {
          "name": "stdout",
          "output_type": "stream",
          "text": [
            "              precision    recall  f1-score   support\n",
            "\n",
            "           0       1.00      1.00      1.00       317\n",
            "           1       1.00      1.00      1.00       604\n",
            "\n",
            "    accuracy                           1.00       921\n",
            "   macro avg       1.00      1.00      1.00       921\n",
            "weighted avg       1.00      1.00      1.00       921\n",
            "\n",
            "Unique values in y_test: [0 1]\n",
            "ROC AUC Score: 1.0\n"
          ]
        }
      ],
      "source": [
        "from sklearn.metrics import classification_report, roc_auc_score\n",
        "\n",
        "# Predictions\n",
        "y_pred = model.predict(X_test)\n",
        "\n",
        "# Evaluation metrics\n",
        "print(classification_report(y_test, y_pred))\n",
        "\n",
        "# Check the unique values in y_test\n",
        "print('Unique values in y_test:', np.unique(y_test))\n",
        "\n",
        "if len(np.unique(y_test)) > 1:\n",
        "    print('ROC AUC Score:', roc_auc_score(y_test, y_pred))\n",
        "else:\n",
        "    print('ROC AUC Score cannot be calculated because only one class is present in y_test.')"
      ]
    },
    {
      "cell_type": "markdown",
      "metadata": {
        "id": "yNEHtGyopsoD"
      },
      "source": [
        "## e. Feature Importance\n",
        "Determine which features are most important for predicting cancellations."
      ]
    },
    {
      "cell_type": "code",
      "execution_count": 41,
      "metadata": {
        "colab": {
          "base_uri": "https://localhost:8080/"
        },
        "id": "5UO8JTAcpKa2",
        "outputId": "3b83eb7b-bf30-46d0-be55-e45c573b03d7"
      },
      "outputs": [
        {
          "name": "stdout",
          "output_type": "stream",
          "text": [
            "                                              Feature  Importance\n",
            "3                               subscription_duration    0.459911\n",
            "2                                  canceled_month_num    0.381109\n",
            "17       customer_category_Short-term (1 to 3 months)    0.045846\n",
            "5                           duration_group_31-60 days    0.032778\n",
            "4                            duration_group_8-30 days    0.029042\n",
            "15  customer_category_Mid-term (3 months to 6 months)    0.014460\n",
            "1                                   created_month_num    0.009301\n",
            "6                           duration_group_61-90 days    0.008879\n",
            "7                          duration_group_91-120 days    0.006369\n",
            "12                       customer_category_Free trial    0.003494\n",
            "8                         duration_group_121-150 days    0.002491\n",
            "0                               was_subscription_paid    0.001991\n",
            "14   customer_category_Long-term (6 months to 1 year)    0.001615\n",
            "16                     customer_category_Resubscriber    0.001219\n",
            "10                        duration_group_181-365 days    0.000970\n",
            "9                         duration_group_151-180 days    0.000521\n",
            "13             customer_category_Irregular Subscriber    0.000004\n",
            "11                           duration_group_1-2 years    0.000000\n"
          ]
        }
      ],
      "source": [
        "importances = model.feature_importances_\n",
        "features = X.columns\n",
        "feature_importance_df = pd.DataFrame({'Feature': features, 'Importance': importances})\n",
        "print(feature_importance_df.sort_values(by='Importance', ascending=False))\n"
      ]
    },
    {
      "cell_type": "markdown",
      "metadata": {
        "id": "kyPK2tdTuZvc"
      },
      "source": [
        "## The provided output shows the feature importance for predicting cancellations. Based on the `Importance` values, we can infer the following:\n",
        "\n",
        "**Most important features:**\n",
        "\n",
        "- **subscription_duration:** This feature has the highest importance, indicating that it's the most crucial factor in predicting cancellations. Longer subscription durations might be associated with lower cancellation rates.\n",
        "- **canceled_month_num:** This feature also has a significant impact on cancellation prediction. It might reveal patterns related to seasonal cancellations or specific time periods when customers are more likely to cancel.\n",
        "\n",
        "**Less important features:**\n",
        "\n",
        "- **customer_category_Irregular Subscriber:** This category has the lowest importance, suggesting that it has little or no influence on cancellation prediction."
      ]
    },
    {
      "cell_type": "markdown",
      "metadata": {
        "id": "YyZpXBlv1nVX"
      },
      "source": [
        "# Test likelihood of churn of a new customer"
      ]
    },
    {
      "cell_type": "code",
      "execution_count": 42,
      "metadata": {
        "colab": {
          "base_uri": "https://localhost:8080/"
        },
        "id": "DRYX5Sx5u_rj",
        "outputId": "350a994f-0839-4710-d3b8-3fa9803fb3db"
      },
      "outputs": [
        {
          "name": "stdout",
          "output_type": "stream",
          "text": [
            "Likelihood of churn: 1.0000\n"
          ]
        }
      ],
      "source": [
        "# Ensure that the new data is processed (e.g., categorical features encoded) similarly to the training data\n",
        "\n",
        "# Replace the values with your specific customer data\n",
        "new_customer_data = pd.DataFrame({\n",
        "    'was_subscription_paid': [1],\n",
        "    'created_month_num': [2],\n",
        "    'canceled_month_num': [9],\n",
        "    'subscription_duration': [200],\n",
        "    'duration_group_8-30 days': [0],\n",
        "    'duration_group_31-60 days': [0],\n",
        "    'duration_group_61-90 days': [0],\n",
        "    'duration_group_91-120 days': [0],\n",
        "    'duration_group_121-150 days': [0],\n",
        "    'duration_group_151-180 days': [0],\n",
        "    'duration_group_181-365 days': [1],\n",
        "    'duration_group_1-2 years': [0],\n",
        "    'customer_category_Free trial': [0],\n",
        "    'customer_category_Irregular Subscriber': [0],\n",
        "    'customer_category_Long-term (6 months to 1 year)': [1],\n",
        "    'customer_category_Mid-term (3 months to 6 months)': [0],\n",
        "    'customer_category_Resubscriber': [0],\n",
        "    'customer_category_Short-term (1 to 3 months)': [0]\n",
        "})\n",
        "\n",
        "# Predict probability of churn (1) or non-churn (0)\n",
        "churn_prob = model.predict_proba(new_customer_data)\n",
        "\n",
        "# churn_prob gives probabilities for both classes: [probability of not churning, probability of churning]\n",
        "churn_likelihood = churn_prob[0][1]  # Get probability of churn\n",
        "\n",
        "print(f'Likelihood of churn: {churn_likelihood:.4f}')"
      ]
    }
  ],
  "metadata": {
    "colab": {
      "provenance": []
    },
    "kernelspec": {
      "display_name": "Python 3",
      "name": "python3"
    },
    "language_info": {
      "codemirror_mode": {
        "name": "ipython",
        "version": 3
      },
      "file_extension": ".py",
      "mimetype": "text/x-python",
      "name": "python",
      "nbconvert_exporter": "python",
      "pygments_lexer": "ipython3",
      "version": "3.12.0"
    }
  },
  "nbformat": 4,
  "nbformat_minor": 0
}
